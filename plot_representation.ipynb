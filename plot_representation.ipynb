{
 "cells": [
  {
   "cell_type": "markdown",
   "metadata": {},
   "source": [
    "\n",
    "# Representation of functional data\n",
    "\n",
    "Explores the different representations of functional data.\n"
   ]
  },
  {
   "cell_type": "code",
   "execution_count": null,
   "metadata": {},
   "outputs": [],
   "source": [
    "# Author: Carlos Ramos Carreño\n",
    "\n",
    "import pandas as pd\n",
    "import skfda\n",
    "from skfda.representation import basis\n",
    "from skfda.representation.interpolation import SplineInterpolation"
   ]
  },
  {
   "cell_type": "markdown",
   "metadata": {},
   "source": [
    "In this example we are going to show the different representations of\n",
    "functional data available in scikit-fda.\n",
    "\n",
    "First we are going to fetch a functional data dataset, such as the Berkeley\n",
    "Growth Study. This dataset correspond to the height of several boys and\n",
    "girls measured until the 18 years of age. The number and times of the\n",
    "measurements are the same for each individual.\n",
    "\n"
   ]
  },
  {
   "cell_type": "code",
   "execution_count": null,
   "metadata": {},
   "outputs": [],
   "source": [
    "dataset = skfda.datasets.fetch_growth()\n",
    "fd = dataset[\"data\"]\n",
    "y = dataset[\"target\"]\n",
    "\n",
    "print(repr(fd))\n",
    "\n",
    "fd.plot(group=y, group_colors=[\"red\", \"blue\"])"
   ]
  },
  {
   "cell_type": "markdown",
   "metadata": {},
   "source": [
    "This kind of representation is a discretized representation, in which the\n",
    "measurement points are shared between samples.\n",
    "\n"
   ]
  },
  {
   "cell_type": "code",
   "execution_count": null,
   "metadata": {},
   "outputs": [],
   "source": [
    "dframe = pd.DataFrame(fd.data_matrix[:, :, 0])\n",
    "dframe.head()"
   ]
  },
  {
   "cell_type": "code",
   "execution_count": null,
   "metadata": {},
   "outputs": [],
   "source": [
    "print(fd.grid_points)"
   ]
  },
  {
   "cell_type": "markdown",
   "metadata": {},
   "source": [
    "In this representation, the data can be arranged as a matrix.\n",
    "\n"
   ]
  },
  {
   "cell_type": "code",
   "execution_count": null,
   "metadata": {},
   "outputs": [],
   "source": [
    "print(fd.data_matrix)"
   ]
  },
  {
   "cell_type": "markdown",
   "metadata": {},
   "source": [
    "By default, the data points are interpolated using a linear interpolation,\n",
    "but this is configurable.\n",
    "\n"
   ]
  },
  {
   "cell_type": "code",
   "execution_count": null,
   "metadata": {},
   "outputs": [],
   "source": [
    "dataset = skfda.datasets.fetch_medflies()\n",
    "fd = dataset[\"data\"]\n",
    "\n",
    "first_curve = fd[0]\n",
    "first_curve.plot()"
   ]
  },
  {
   "cell_type": "markdown",
   "metadata": {},
   "source": [
    "The interpolation used can however be changed. Here, we will use an\n",
    "interpolation with degree 3 splines.\n",
    "\n"
   ]
  },
  {
   "cell_type": "code",
   "execution_count": null,
   "metadata": {},
   "outputs": [],
   "source": [
    "first_curve.interpolation = SplineInterpolation(2)\n",
    "first_curve.plot()"
   ]
  },
  {
   "cell_type": "markdown",
   "metadata": {},
   "source": [
    "This representation allows also functions with arbitrary dimensions of the\n",
    "domain and codomain.\n",
    "\n"
   ]
  },
  {
   "cell_type": "code",
   "execution_count": null,
   "metadata": {},
   "outputs": [],
   "source": [
    "fd = skfda.datasets.make_multimodal_samples(n_samples=1, dim_domain=2, dim_codomain=2)\n",
    "\n",
    "print(fd.dim_domain)\n",
    "print(fd.dim_codomain)\n",
    "\n",
    "fd.plot()"
   ]
  },
  {
   "cell_type": "markdown",
   "metadata": {},
   "source": [
    "Another possible representation is a decomposition in a basis of functions.\n",
    "$$\n",
    "f(t) = \\sum_{i=1}^N a_i \\phi_i(t)\n",
    "$$\n",
    "It is possible to transform between both representations. Let us use again\n",
    "the Berkeley Growth dataset.\n",
    "\n"
   ]
  },
  {
   "cell_type": "code",
   "execution_count": null,
   "metadata": {},
   "outputs": [],
   "source": [
    "dataset = skfda.datasets.fetch_growth()\n",
    "fd = dataset[\"data\"]\n",
    "y = dataset[\"target\"]\n",
    "\n",
    "fd.plot()"
   ]
  },
  {
   "cell_type": "markdown",
   "metadata": {},
   "source": [
    "We will represent it using a basis of B-splines.\n",
    "\n"
   ]
  },
  {
   "cell_type": "markdown",
   "metadata": {},
   "source": [
    "$$\n",
    "B_{i, 1}(x) = 1 \\quad \\text{if } t_i \\le x < t_{i+1},\n",
    "\\quad 0 \\text{ otherwise}\n",
    "$$\n",
    "$$\n",
    "B_{i, k}(x) = \\frac{x - t_i}{t_{i+k} - t_i} B_{i, k-1}(x)\n",
    "+ \\frac{t_{i+k+1} - x}{t_{i+k+1} - t_{i+1}} B_{i+1, k-1}(x)\n",
    "$$"
   ]
  },
  {
   "cell_type": "code",
   "execution_count": null,
   "metadata": {},
   "outputs": [],
   "source": [
    "fd_basis = fd.to_basis(basis.BSplineBasis(n_basis=4))\n",
    "\n",
    "fd_basis.plot()"
   ]
  },
  {
   "cell_type": "markdown",
   "metadata": {},
   "source": [
    "We can increase the number of elements in the basis to try to reproduce the\n",
    "original data with more fidelity.\n",
    "\n"
   ]
  },
  {
   "cell_type": "code",
   "execution_count": null,
   "metadata": {},
   "outputs": [],
   "source": [
    "fd_basis_big = fd.to_basis(basis.BSplineBasis(n_basis=7))\n",
    "\n",
    "fd_basis_big.plot()"
   ]
  },
  {
   "cell_type": "markdown",
   "metadata": {},
   "source": [
    "Lets compare the diferent representations in the same plot, for the same\n",
    "curve\n",
    "\n"
   ]
  },
  {
   "cell_type": "code",
   "execution_count": null,
   "metadata": {},
   "outputs": [],
   "source": [
    "fig = fd[0].plot()\n",
    "fd_basis[0].plot(fig=fig)\n",
    "fd_basis_big[0].plot(fig=fig)\n",
    "\n",
    "fig.axes[0].legend([\"Original\", \"4 elements\", \"7 elements\"])"
   ]
  },
  {
   "cell_type": "markdown",
   "metadata": {},
   "source": [
    "We can also see the effect of changing the basis.\n",
    "For example, in the Fourier basis the functions start and end at the same\n",
    "points if the period is equal to the domain range, so this basis is clearly\n",
    "non suitable for the Growth dataset.\n",
    "\n"
   ]
  },
  {
   "cell_type": "code",
   "execution_count": null,
   "metadata": {},
   "outputs": [],
   "source": [
    "fd_basis = fd.to_basis(basis.FourierBasis(n_basis=7))\n",
    "\n",
    "fd_basis.plot()"
   ]
  },
  {
   "cell_type": "markdown",
   "metadata": {},
   "source": [
    "The data is now represented as the coefficients in the basis expansion.\n",
    "\n"
   ]
  },
  {
   "cell_type": "code",
   "execution_count": null,
   "metadata": {},
   "outputs": [],
   "source": [
    "print(fd_basis)"
   ]
  },
  {
   "cell_type": "code",
   "execution_count": null,
   "metadata": {},
   "outputs": [],
   "source": [
    "import numpy as np\n",
    "\n",
    "rng = np.random.default_rng(28071995)\n",
    "grid_points = np.linspace(0, 1)\n",
    "data = np.array([np.sin((grid_points + rng.random()) * 2 * np.pi) for _ in range(5)])\n",
    "pdata = pd.DataFrame(data)\n",
    "pdata"
   ]
  },
  {
   "cell_type": "code",
   "execution_count": null,
   "metadata": {},
   "outputs": [],
   "source": []
  },
  {
   "cell_type": "code",
   "execution_count": null,
   "metadata": {},
   "outputs": [],
   "source": [
    "rng.random(4)"
   ]
  },
  {
   "cell_type": "code",
   "execution_count": null,
   "metadata": {},
   "outputs": [],
   "source": []
  }
 ],
 "metadata": {
  "language_info": {
   "codemirror_mode": {
    "name": "ipython",
    "version": 3
   },
   "file_extension": ".py",
   "mimetype": "text/x-python",
   "name": "python",
   "nbconvert_exporter": "python",
   "pygments_lexer": "ipython3"
  }
 },
 "nbformat": 4,
 "nbformat_minor": 0
}
