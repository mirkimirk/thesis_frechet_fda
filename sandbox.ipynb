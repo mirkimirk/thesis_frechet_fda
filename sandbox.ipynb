{
 "cells": [
  {
   "cell_type": "code",
   "execution_count": 91,
   "metadata": {},
   "outputs": [],
   "source": [
    "import numpy as np\n",
    "import matplotlib.pyplot as plt\n",
    "from functools import partial"
   ]
  },
  {
   "cell_type": "markdown",
   "metadata": {},
   "source": [
    "## Nonparamatric kernel density estimation"
   ]
  },
  {
   "cell_type": "code",
   "execution_count": 115,
   "metadata": {},
   "outputs": [],
   "source": [
    "kernels = {\n",
    "    \"Epanechnikov\" : lambda u: 0.75 * (1 - u ** 2) * int(abs(u) <= 1),\n",
    "    \"Uniform\" : lambda u: 0.5 * int(abs(u) <= 1),\n",
    "    \"Triangular\" : lambda u: 1 - abs(u) * int(abs(u) <= 1),\n",
    "}"
   ]
  },
  {
   "cell_type": "code",
   "execution_count": 128,
   "metadata": {},
   "outputs": [],
   "source": [
    "def kernel_estimator(x, h, s, kernel_type = \"Uniform\"):\n",
    "    f_hat = 1 / (len(s)*h) * sum(\n",
    "        [kernels[kernel_type]((x - s) / h)]\n",
    "    )\n",
    "    return f_hat"
   ]
  },
  {
   "cell_type": "code",
   "execution_count": 129,
   "metadata": {},
   "outputs": [],
   "source": [
    "sample_size = 200\n",
    "grid_size = 100\n",
    "grid_ending = 10\n",
    "\n",
    "sample = np.random.normal(size=sample_size)\n",
    "grid = np.linspace(start = -grid_ending, stop = grid_ending, num = grid_size)"
   ]
  },
  {
   "cell_type": "code",
   "execution_count": 131,
   "metadata": {},
   "outputs": [],
   "source": [
    "kernel_estimator_given_sample = partial(kernel_estimator, s = sample)"
   ]
  },
  {
   "cell_type": "code",
   "execution_count": 134,
   "metadata": {},
   "outputs": [
    {
     "ename": "TypeError",
     "evalue": "only length-1 arrays can be converted to Python scalars",
     "output_type": "error",
     "traceback": [
      "\u001b[1;31m---------------------------------------------------------------------------\u001b[0m",
      "\u001b[1;31mTypeError\u001b[0m                                 Traceback (most recent call last)",
      "Cell \u001b[1;32mIn[134], line 1\u001b[0m\n\u001b[1;32m----> 1\u001b[0m values_epa \u001b[39m=\u001b[39m [kernel_estimator_given_sample(x \u001b[39m=\u001b[39;49m i, h \u001b[39m=\u001b[39;49m \u001b[39m2\u001b[39;49m, kernel_type \u001b[39m=\u001b[39;49m \u001b[39m\"\u001b[39;49m\u001b[39mEpanechnikov\u001b[39;49m\u001b[39m\"\u001b[39;49m) \u001b[39mfor\u001b[39;49;00m i \u001b[39min\u001b[39;49;00m grid]\n",
      "Cell \u001b[1;32mIn[134], line 1\u001b[0m, in \u001b[0;36m<listcomp>\u001b[1;34m(.0)\u001b[0m\n\u001b[1;32m----> 1\u001b[0m values_epa \u001b[39m=\u001b[39m [kernel_estimator_given_sample(x \u001b[39m=\u001b[39;49m i, h \u001b[39m=\u001b[39;49m \u001b[39m2\u001b[39;49m, kernel_type \u001b[39m=\u001b[39;49m \u001b[39m\"\u001b[39;49m\u001b[39mEpanechnikov\u001b[39;49m\u001b[39m\"\u001b[39;49m) \u001b[39mfor\u001b[39;00m i \u001b[39min\u001b[39;00m grid]\n",
      "Cell \u001b[1;32mIn[128], line 3\u001b[0m, in \u001b[0;36mkernel_estimator\u001b[1;34m(x, h, s, kernel_type)\u001b[0m\n\u001b[0;32m      1\u001b[0m \u001b[39mdef\u001b[39;00m \u001b[39mkernel_estimator\u001b[39m(x, h, s, kernel_type \u001b[39m=\u001b[39m \u001b[39m\"\u001b[39m\u001b[39mUniform\u001b[39m\u001b[39m\"\u001b[39m):\n\u001b[0;32m      2\u001b[0m     f_hat \u001b[39m=\u001b[39m \u001b[39m1\u001b[39m \u001b[39m/\u001b[39m (\u001b[39mlen\u001b[39m(s)\u001b[39m*\u001b[39mh) \u001b[39m*\u001b[39m \u001b[39msum\u001b[39m(\n\u001b[1;32m----> 3\u001b[0m         [kernels[kernel_type]((x \u001b[39m-\u001b[39;49m s) \u001b[39m/\u001b[39;49m h)]\n\u001b[0;32m      4\u001b[0m     )\n\u001b[0;32m      5\u001b[0m     \u001b[39mreturn\u001b[39;00m f_hat\n",
      "Cell \u001b[1;32mIn[115], line 2\u001b[0m, in \u001b[0;36m<lambda>\u001b[1;34m(u)\u001b[0m\n\u001b[0;32m      1\u001b[0m kernels \u001b[39m=\u001b[39m {\n\u001b[1;32m----> 2\u001b[0m     \u001b[39m\"\u001b[39m\u001b[39mEpanechnikov\u001b[39m\u001b[39m\"\u001b[39m : \u001b[39mlambda\u001b[39;00m u: \u001b[39m0.75\u001b[39m \u001b[39m*\u001b[39m (\u001b[39m1\u001b[39m \u001b[39m-\u001b[39m u \u001b[39m*\u001b[39m\u001b[39m*\u001b[39m \u001b[39m2\u001b[39m) \u001b[39m*\u001b[39m \u001b[39mint\u001b[39;49m(\u001b[39mabs\u001b[39;49m(u) \u001b[39m<\u001b[39;49m\u001b[39m=\u001b[39;49m \u001b[39m1\u001b[39;49m),\n\u001b[0;32m      3\u001b[0m     \u001b[39m\"\u001b[39m\u001b[39mUniform\u001b[39m\u001b[39m\"\u001b[39m : \u001b[39mlambda\u001b[39;00m u: \u001b[39m0.5\u001b[39m \u001b[39m*\u001b[39m \u001b[39mint\u001b[39m(\u001b[39mabs\u001b[39m(u) \u001b[39m<\u001b[39m\u001b[39m=\u001b[39m \u001b[39m1\u001b[39m),\n\u001b[0;32m      4\u001b[0m     \u001b[39m\"\u001b[39m\u001b[39mTriangular\u001b[39m\u001b[39m\"\u001b[39m : \u001b[39mlambda\u001b[39;00m u: \u001b[39m1\u001b[39m \u001b[39m-\u001b[39m \u001b[39mabs\u001b[39m(u)\n\u001b[0;32m      5\u001b[0m }\n",
      "\u001b[1;31mTypeError\u001b[0m: only length-1 arrays can be converted to Python scalars"
     ]
    }
   ],
   "source": [
    "values_epa = [kernel_estimator_given_sample(x = i, h = 2, kernel_type = \"Epanechnikov\") for i in grid]"
   ]
  },
  {
   "cell_type": "code",
   "execution_count": 126,
   "metadata": {},
   "outputs": [
    {
     "ename": "TypeError",
     "evalue": "object of type 'int' has no len()",
     "output_type": "error",
     "traceback": [
      "\u001b[1;31m---------------------------------------------------------------------------\u001b[0m",
      "\u001b[1;31mTypeError\u001b[0m                                 Traceback (most recent call last)",
      "Cell \u001b[1;32mIn[126], line 1\u001b[0m\n\u001b[1;32m----> 1\u001b[0m kernel_estimator_given_sample(x \u001b[39m=\u001b[39;49m \u001b[39m1\u001b[39;49m, h \u001b[39m=\u001b[39;49m \u001b[39m2\u001b[39;49m, s \u001b[39m=\u001b[39;49m \u001b[39m3\u001b[39;49m)\n",
      "Cell \u001b[1;32mIn[116], line 2\u001b[0m, in \u001b[0;36mkernel_estimator\u001b[1;34m(x, h, s, kernel_type)\u001b[0m\n\u001b[0;32m      1\u001b[0m \u001b[39mdef\u001b[39;00m \u001b[39mkernel_estimator\u001b[39m(x, h, s, kernel_type \u001b[39m=\u001b[39m \u001b[39m\"\u001b[39m\u001b[39mUniform\u001b[39m\u001b[39m\"\u001b[39m):\n\u001b[1;32m----> 2\u001b[0m     f_hat \u001b[39m=\u001b[39m \u001b[39m1\u001b[39m \u001b[39m/\u001b[39m (\u001b[39mlen\u001b[39;49m(s)\u001b[39m*\u001b[39mh) \u001b[39m*\u001b[39m \u001b[39msum\u001b[39m(\n\u001b[0;32m      3\u001b[0m         \u001b[39mmap\u001b[39m(kernels[kernel_type], (x \u001b[39m-\u001b[39m s) \u001b[39m/\u001b[39m h)\n\u001b[0;32m      4\u001b[0m     )\n\u001b[0;32m      5\u001b[0m     \u001b[39mreturn\u001b[39;00m f_hat\n",
      "\u001b[1;31mTypeError\u001b[0m: object of type 'int' has no len()"
     ]
    }
   ],
   "source": [
    "kernel_estimator_given_sample(x = 1, h = 2, s = 3)"
   ]
  },
  {
   "cell_type": "code",
   "execution_count": 114,
   "metadata": {},
   "outputs": [
    {
     "data": {
      "text/plain": [
       "[<matplotlib.lines.Line2D at 0x20e2d61a210>]"
      ]
     },
     "execution_count": 114,
     "metadata": {},
     "output_type": "execute_result"
    },
    {
     "data": {
      "image/png": "[encoded data removed]",
      "text/plain": [
       "<Figure size 640x480 with 1 Axes>"
      ]
     },
     "metadata": {},
     "output_type": "display_data"
    }
   ],
   "source": [
    "plt.plot(grid, estimatedvalues)"
   ]
  },
  {
   "cell_type": "code",
   "execution_count": null,
   "metadata": {},
   "outputs": [],
   "source": []
  },
  {
   "cell_type": "code",
   "execution_count": null,
   "metadata": {},
   "outputs": [],
   "source": []
  }
 ],
 "metadata": {
  "kernelspec": {
   "display_name": "frechet_fda",
   "language": "python",
   "name": "python3"
  },
  "language_info": {
   "codemirror_mode": {
    "name": "ipython",
    "version": 3
   },
   "file_extension": ".py",
   "mimetype": "text/x-python",
   "name": "python",
   "nbconvert_exporter": "python",
   "pygments_lexer": "ipython3",
   "version": "3.11.4"
  },
  "orig_nbformat": 4
 },
 "nbformat": 4,
 "nbformat_minor": 2
}
