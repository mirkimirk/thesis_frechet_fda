{
 "cells": [
  {
   "cell_type": "code",
   "execution_count": null,
   "metadata": {},
   "outputs": [],
   "source": [
    "from frechet_fda.data_generation_helpers import (\n",
    "    gen_params_scenario_one,\n",
    "    make_truncnorm_pdf,\n",
    ")\n",
    "from frechet_fda.distribution_tools import (\n",
    "    get_optimal_range,\n",
    "    make_distribution_objects,\n",
    ")\n",
    "from frechet_fda.fda_funcs import (\n",
    "    compute_centered_data,\n",
    "    compute_cov_function,\n",
    "    compute_fpc_scores,\n",
    "    compute_principal_components,\n",
    ")"
   ]
  },
  {
   "cell_type": "code",
   "execution_count": null,
   "metadata": {},
   "outputs": [],
   "source": [
    "# Set parameters\n",
    "n = 200\n",
    "grid_size = 10000\n",
    "trunc = 3\n",
    "mus, sigmas = gen_params_scenario_one(n)\n",
    "# Sort sigmas, because when summing Distribution instances something goes wrong\n",
    "sigmas.sort()"
   ]
  },
  {
   "cell_type": "code",
   "execution_count": null,
   "metadata": {},
   "outputs": [],
   "source": [
    "# Generate pdfs within truncation points\n",
    "pdfs = make_truncnorm_pdf(-trunc, trunc, mus, sigmas, grid_size=grid_size)\n",
    "# Make Distribution class objects\n",
    "my_pdfs = make_distribution_objects(pdfs)\n",
    "my_cdfs = [pdf.integrate() for pdf in my_pdfs]\n",
    "my_qfs = [cdf.invert() for cdf in my_cdfs]\n",
    "my_qdfs = [qf.differentiate() for qf in my_qfs]\n",
    "# For numerical correction: shorten the range for smaller sigmas to get rid of\n",
    "# numerical artifacts when computing integrals, derivatives and means later\n",
    "new_ranges = get_optimal_range(my_pdfs)\n",
    "# Generate pdfs again, this time within individual ranges\n",
    "pdfs2 = [\n",
    "    make_truncnorm_pdf(\n",
    "        new_ranges[i][0], new_ranges[i][1], mus[i], sigmas[i], grid_size=grid_size,\n",
    "    )[0]\n",
    "    for i in range(n)\n",
    "]"
   ]
  },
  {
   "cell_type": "code",
   "execution_count": null,
   "metadata": {},
   "outputs": [],
   "source": [
    "# Generate all the distribution objects\n",
    "new_pdfs = make_distribution_objects(pdfs2)\n",
    "new_cdfs = [pdf.integrate() for pdf in new_pdfs]\n",
    "new_qfs = [cdf.invert() for cdf in new_cdfs]\n",
    "new_qdfs = [qf.differentiate() for qf in new_qfs]"
   ]
  },
  {
   "cell_type": "code",
   "execution_count": null,
   "metadata": {},
   "outputs": [],
   "source": [
    "# Compute centered data, just to see whether it works\n",
    "# One can clearly see how inappropriate it is to apply fda methods on densities\n",
    "centered_pdfs = compute_centered_data(my_pdfs)\n",
    "centered_pdfs[sigmas.argmax()].compare(my_pdfs[sigmas.argmax()])"
   ]
  },
  {
   "cell_type": "code",
   "execution_count": null,
   "metadata": {},
   "outputs": [],
   "source": [
    "covariance_function = compute_cov_function(centered_pdfs)"
   ]
  },
  {
   "cell_type": "code",
   "execution_count": null,
   "metadata": {},
   "outputs": [],
   "source": [
    "eigenvalues, eigenfunctions = compute_principal_components(\n",
    "    my_pdfs[0].x, covariance_function,\n",
    ")"
   ]
  },
  {
   "cell_type": "code",
   "execution_count": null,
   "metadata": {},
   "outputs": [],
   "source": [
    "compute_fpc_scores(my_pdfs[0].x, centered_pdfs, eigenfunctions)"
   ]
  }
 ],
 "metadata": {
  "language_info": {
   "codemirror_mode": {
    "name": "ipython",
    "version": 3
   },
   "file_extension": ".py",
   "mimetype": "text/x-python",
   "name": "python",
   "nbconvert_exporter": "python",
   "pygments_lexer": "ipython3"
  }
 },
 "nbformat": 4,
 "nbformat_minor": 2
}
