{
 "cells": [
  {
   "cell_type": "code",
   "execution_count": null,
   "metadata": {},
   "outputs": [],
   "source": [
    "\"\"\"Sandbox module.\"\"\"\n",
    "import matplotlib.pyplot as plt\n",
    "import numpy as np\n",
    "from misc import (\n",
    "    cdf_from_density,\n",
    "    density_from_qd,\n",
    "    l2_norm,\n",
    "    norm_pdf,\n",
    "    quantile_from_cdf,\n",
    "    riemann_sum_arrays,\n",
    "    trunc_norm_pdf,\n",
    ")\n",
    "from scipy.stats import norm, truncnorm\n",
    "\n",
    "%matplotlib inline"
   ]
  },
  {
   "cell_type": "markdown",
   "metadata": {},
   "source": [
    "$\\int_0^1 f(t)dt$  wird dann durch die Riemann Summe $1/m \\sum_{j=1}^m f(s_j)$ ersetzt ($s_j$  - Gridpunkte, $m$ -  Anzahl der Gridpunkte)."
   ]
  },
  {
   "cell_type": "markdown",
   "metadata": {},
   "source": [
    "# Functional Data Analysis\n",
    "\n",
    "Ideas for simulation\n",
    "- Uni- vs. Multivariate case\n",
    "- Simulate different normal distributions\n",
    "- Vary parameters of (generalized) Beta distribution, so principal components can be interpreted as varying parameters"
   ]
  },
  {
   "cell_type": "markdown",
   "metadata": {},
   "source": [
    "$X(t) = \\sum_{k=1}^n η_k φ_k(t)$\n"
   ]
  },
  {
   "cell_type": "markdown",
   "metadata": {},
   "source": [
    "## Transformation Method Paper (Petersen & Müller 2016)"
   ]
  },
  {
   "cell_type": "code",
   "execution_count": null,
   "metadata": {},
   "outputs": [],
   "source": [
    "# 1. Generate synthetic functional data\n",
    "n = 200\n",
    "gridnum = 1000\n",
    "truncation_point = 5\n",
    "\n",
    "# Define appropriate grids, both multi- and univariate\n",
    "grid_densities = np.linspace(\n",
    "    start=-np.ones(n) * truncation_point,\n",
    "    stop=np.ones(n) * truncation_point,\n",
    "    num=gridnum,\n",
    ")\n",
    "grid_quantiles = np.linspace(\n",
    "    start=np.ones(n) * 0.01,\n",
    "    stop=np.ones(n) * 0.99,\n",
    "    num=gridnum,\n",
    ")\n",
    "grid_densities_univ = np.linspace(\n",
    "    start=-truncation_point,\n",
    "    stop=truncation_point,\n",
    "    num=gridnum,\n",
    ")\n",
    "grid_quantiles_univ = np.linspace(start=0.01, stop=0.99, num=gridnum)\n",
    "\n",
    "# Draw different sigmas\n",
    "log_sigmas = np.random.default_rng(seed=28071995).uniform(-1.5, 1.5, n)\n",
    "mus = np.zeros(n)\n",
    "sigmas = np.exp(log_sigmas)"
   ]
  },
  {
   "cell_type": "code",
   "execution_count": null,
   "metadata": {},
   "outputs": [],
   "source": [
    "# Calculate discretized distributions, with different methods, to compare performance\n",
    "\n",
    "# Calculate densities\n",
    "a, b = (-truncation_point - mus) / sigmas, (truncation_point - mus) / sigmas\n",
    "densities_discretized = norm_pdf(grid_densities, mus, sigmas).transpose()\n",
    "densities_discretized2 = truncnorm.pdf(\n",
    "    x=grid_densities,\n",
    "    a=a,\n",
    "    b=b,\n",
    "    loc=mus,\n",
    "    scale=sigmas,\n",
    ").transpose()\n",
    "densities_discretized3 = trunc_norm_pdf(\n",
    "    grid_densities,\n",
    "    mus,\n",
    "    sigmas,\n",
    "    -truncation_point,\n",
    "    truncation_point,\n",
    ").transpose()\n",
    "\n",
    "# Calculate distribution functions\n",
    "cdfs_discretized = cdf_from_density(\n",
    "    grid_densities_univ,\n",
    "    densities_discretized,\n",
    "    axis=1,\n",
    ")\n",
    "cdfs_discretized2 = cdf_from_density(\n",
    "    grid_densities_univ,\n",
    "    densities_discretized2,\n",
    "    axis=1,\n",
    ")\n",
    "cdfs_discretized3 = cdf_from_density(\n",
    "    grid_densities_univ,\n",
    "    densities_discretized3,\n",
    "    axis=1,\n",
    ")\n",
    "\n",
    "# Calculate quantiles\n",
    "quantiles_discretized = norm.ppf(grid_quantiles, mus, sigmas).transpose()\n",
    "quantiles_discretized2 = truncnorm.ppf(\n",
    "    q=grid_quantiles_univ[:, np.newaxis],\n",
    "    a=a,\n",
    "    b=b,\n",
    "    loc=mus,\n",
    "    scale=sigmas,\n",
    ").transpose()\n",
    "quantiles_discretized3 = quantile_from_cdf(\n",
    "    grid_densities.transpose(),\n",
    "    cdfs_discretized,\n",
    "    grid_quantiles_univ,\n",
    ")\n",
    "\n",
    "# Calculate quantile densities\n",
    "quantile_densities_discretized = np.reciprocal(\n",
    "    norm_pdf(quantiles_discretized.transpose(), mus, sigmas),\n",
    ").transpose()\n",
    "quantile_densities_discretized2 = np.reciprocal(\n",
    "    truncnorm.pdf(quantiles_discretized2.transpose(), a=a, b=b, loc=mus, scale=sigmas),\n",
    ").transpose()\n",
    "quantile_densities_discretized3 = np.reciprocal(\n",
    "    trunc_norm_pdf(\n",
    "        quantiles_discretized3.transpose(),\n",
    "        mus,\n",
    "        sigmas,\n",
    "        -truncation_point,\n",
    "        truncation_point,\n",
    "    ),\n",
    ").transpose()"
   ]
  },
  {
   "cell_type": "code",
   "execution_count": null,
   "metadata": {},
   "outputs": [],
   "source": [
    "### Check whether my function differs from scipy func on first generated density sample\n",
    "eps = 1e-2\n",
    "(\n",
    "    (abs(densities_discretized[0] - densities_discretized2[0]) > eps).sum(),\n",
    "    (abs(cdfs_discretized[0] - cdfs_discretized2[0]) > eps).sum(),\n",
    "    (abs(quantiles_discretized[0] - quantiles_discretized2[0]) > eps).sum(),\n",
    "    (\n",
    "        abs(quantile_densities_discretized[0] - quantile_densities_discretized2[0])\n",
    "        > eps\n",
    "    ).sum(),\n",
    "    (abs(densities_discretized2[0] - densities_discretized3[0]) > eps).sum(),\n",
    "    (abs(cdfs_discretized2[0] - cdfs_discretized3[0]) > eps).sum(),\n",
    "    (abs(quantiles_discretized2[0] - quantiles_discretized3[0]) > eps).sum(),\n",
    "    (\n",
    "        abs(quantile_densities_discretized2[0] - quantile_densities_discretized3[0])\n",
    "        > eps\n",
    "    ).sum(),\n",
    ")"
   ]
  },
  {
   "cell_type": "markdown",
   "metadata": {},
   "source": [
    "### Check how fast the different implementations are.\n",
    "\n",
    "1. My normal distribution functions\n",
    "2. Scipy's Truncated normals\n",
    "3. My truncated normals\n",
    "\n",
    "(For quantiles always used scipy's implementation of ppf.)"
   ]
  },
  {
   "cell_type": "code",
   "execution_count": null,
   "metadata": {},
   "outputs": [],
   "source": [
    "%%timeit\n",
    "densities_discretized = norm_pdf(grid_densities, mus, sigmas).transpose()\n",
    "quantiles_discretized = norm.ppf(grid_quantiles, mus, sigmas).transpose()\n",
    "quantile_densities_discretized = np.reciprocal(\n",
    "    norm_pdf(quantiles_discretized.transpose(), mus, sigmas),\n",
    ").transpose()"
   ]
  },
  {
   "cell_type": "code",
   "execution_count": null,
   "metadata": {},
   "outputs": [],
   "source": [
    "%%timeit\n",
    "densities_discretized2 = truncnorm.pdf(\n",
    "    x=grid_densities,\n",
    "    a=a,\n",
    "    b=b,\n",
    "    loc=mus,\n",
    "    scale=sigmas,\n",
    ").transpose()\n",
    "quantiles_discretized2 = truncnorm.ppf(\n",
    "    q=grid_quantiles,\n",
    "    a=a,\n",
    "    b=b,\n",
    "    loc=mus,\n",
    "    scale=sigmas,\n",
    ").transpose()\n",
    "quantile_densities_discretized2 = np.reciprocal(\n",
    "    truncnorm.pdf(quantiles_discretized2.transpose(), a=a, b=b, loc=mus, scale=sigmas),\n",
    ").transpose()"
   ]
  },
  {
   "cell_type": "code",
   "execution_count": null,
   "metadata": {},
   "outputs": [],
   "source": [
    "%%timeit\n",
    "densities_discretized3 = trunc_norm_pdf(grid_densities, mus, sigmas, a, b).transpose()\n",
    "quantiles_discretized3 = quantile_from_cdf(\n",
    "    grid_densities.transpose(),\n",
    "    cdfs_discretized,\n",
    "    grid_quantiles_univ,\n",
    ")\n",
    "quantile_densities_discretized3 = np.reciprocal(\n",
    "    trunc_norm_pdf(\n",
    "        quantiles_discretized3.transpose(),\n",
    "        mus,\n",
    "        sigmas,\n",
    "        -truncation_point,\n",
    "        truncation_point,\n",
    "    ),\n",
    ").transpose()"
   ]
  },
  {
   "cell_type": "markdown",
   "metadata": {},
   "source": [
    "## 3rd approach faster than scipys\n",
    "Less accurate with quantiles though. Gets better with higher grid size, but wont do more\n",
    "than 1000 for computational cost"
   ]
  },
  {
   "cell_type": "markdown",
   "metadata": {},
   "source": [
    "### Use implementation 3, faster than scipy but still correct"
   ]
  },
  {
   "cell_type": "code",
   "execution_count": null,
   "metadata": {},
   "outputs": [],
   "source": [
    "densities_discretized = densities_discretized3\n",
    "cdfs_discretized = cdfs_discretized3\n",
    "quantiles_discretized = quantiles_discretized3\n",
    "quantile_densities_discretized = quantile_densities_discretized3"
   ]
  },
  {
   "cell_type": "code",
   "execution_count": null,
   "metadata": {},
   "outputs": [],
   "source": [
    "# Analytical CDF for standard normal distribution\n",
    "analytical_cdf = norm.cdf(grid_densities_univ)\n",
    "\n",
    "# Plot\n",
    "plt.plot(grid_densities_univ, analytical_cdf, label=\"Analytical CDF\")\n",
    "plt.plot(\n",
    "    grid_densities_univ,\n",
    "    cdfs_discretized3[0],\n",
    "    label=\"Computed CDF\",\n",
    ")  # Adjust index as needed\n",
    "plt.legend()\n",
    "plt.xlabel(\"Value\")\n",
    "plt.ylabel(\"Cumulative Probability\")\n",
    "plt.title(\"Comparison of Analytical and Computed CDFs\")\n",
    "plt.show()"
   ]
  },
  {
   "cell_type": "code",
   "execution_count": null,
   "metadata": {},
   "outputs": [],
   "source": [
    "# 2. Compute the mean function\n",
    "mean_function = np.mean(densities_discretized, axis=0)"
   ]
  },
  {
   "cell_type": "code",
   "execution_count": null,
   "metadata": {},
   "outputs": [],
   "source": [
    "# 3. Center the data\n",
    "centered_densities = densities_discretized - mean_function"
   ]
  },
  {
   "cell_type": "code",
   "execution_count": null,
   "metadata": {},
   "outputs": [],
   "source": [
    "# 4. Estimate the covariance function using a discrete approximation\n",
    "cov_matrix = np.cov(centered_densities, rowvar=False)"
   ]
  },
  {
   "cell_type": "code",
   "execution_count": null,
   "metadata": {},
   "outputs": [],
   "source": [
    "# 5. Compute the eigenfunctions (principal components) of the covariance matrix\n",
    "eigenvalues, eigenfunctions = np.linalg.eigh(cov_matrix)"
   ]
  },
  {
   "cell_type": "code",
   "execution_count": null,
   "metadata": {},
   "outputs": [],
   "source": [
    "# Sort eigenvalues and eigenfunctions in decreasing order\n",
    "eigenvalues_sorted = eigenvalues[np.argsort(-eigenvalues)]\n",
    "eigenfunctions_sorted = eigenfunctions[:, np.argsort(-eigenvalues)]"
   ]
  },
  {
   "cell_type": "code",
   "execution_count": null,
   "metadata": {},
   "outputs": [],
   "source": [
    "# 6. Adjust the lambda function to handle array input and interpolate values from the\n",
    "# eigenvector\n",
    "\n",
    "# Compute the L^2 norm for each column (eigenvector) for rescaling to l2 norm\n",
    "l2_norms = l2_norm(\n",
    "    support_grid=grid_densities_univ,\n",
    "    array=eigenfunctions_sorted,\n",
    "    axis=1,\n",
    "    cumsum=False,\n",
    ")\n",
    "\n",
    "# Scale each column of the eigenfunctions matrix by its respective L^2 norm using\n",
    "# broadcasting\n",
    "eigenfunctions_scaled = eigenfunctions_sorted / l2_norms\n",
    "\n",
    "# Check the first few L^2 norms to verify\n",
    "first_few_norms = l2_norm(\n",
    "    support_grid=grid_densities_univ,\n",
    "    array=eigenfunctions_scaled,\n",
    "    axis=1,\n",
    "    cumsum=False,\n",
    ")\n",
    "first_few_norms[:5]"
   ]
  },
  {
   "cell_type": "code",
   "execution_count": null,
   "metadata": {},
   "outputs": [],
   "source": [
    "# 7. Compute FPC scores / factor loadings\n",
    "products = np.einsum(\"ij,jk->ijk\", centered_densities, eigenfunctions_scaled)\n",
    "fpc_scores = riemann_sum_arrays(\n",
    "    support_grid=grid_densities_univ,\n",
    "    array=products,\n",
    "    axis=1,\n",
    ")"
   ]
  },
  {
   "cell_type": "code",
   "execution_count": null,
   "metadata": {},
   "outputs": [],
   "source": [
    "# Plot the mean function and the first two eigenfunctions\n",
    "plt.figure(figsize=(12, 6))\n",
    "plt.subplot(1, 3, 1)\n",
    "plt.plot(grid_densities_univ, mean_function, \"b-\")\n",
    "plt.title(\"Mean Function\")\n",
    "\n",
    "plt.subplot(1, 3, 2)\n",
    "plt.plot(grid_densities_univ, eigenfunctions_sorted[:, 0], \"r-\")\n",
    "plt.title(\"1st Eigenfunction\")\n",
    "\n",
    "plt.subplot(1, 3, 3)\n",
    "plt.plot(grid_densities_univ, eigenfunctions_sorted[:, 1], \"g-\")\n",
    "plt.title(\"2nd Eigenfunction\")\n",
    "\n",
    "plt.tight_layout()\n",
    "plt.show()"
   ]
  },
  {
   "cell_type": "code",
   "execution_count": null,
   "metadata": {},
   "outputs": [],
   "source": [
    "fig, ax = plt.subplots()\n",
    "ax.plot(grid_densities_univ, mean_function, label=\"Mean Function\")\n",
    "ax.plot(grid_densities_univ, -eigenfunctions_sorted[:, 0], label=\"First component\")\n",
    "ax.plot(grid_densities_univ, eigenfunctions_sorted[:, 1], label=\"Second component\")\n",
    "plt.legend()\n",
    "plt.show()"
   ]
  },
  {
   "cell_type": "markdown",
   "metadata": {},
   "source": [
    "## More reproducing of Petersen & Müller (2016)"
   ]
  },
  {
   "cell_type": "code",
   "execution_count": null,
   "metadata": {},
   "outputs": [],
   "source": [
    "def fve(k):\n",
    "    \"\"\"Compute explained variance.\"\"\"\n",
    "    return np.sum(eigenvalues_sorted[0:k]) / np.sum(eigenvalues_sorted)\n",
    "\n",
    "\n",
    "fve(1), fve(2)"
   ]
  },
  {
   "cell_type": "code",
   "execution_count": null,
   "metadata": {},
   "outputs": [],
   "source": [
    "def mode_of_variation(alpha, mean_func, eigval, eigfunc):\n",
    "    \"\"\"Compute kth mode of variation.\"\"\"\n",
    "    return mean_func + alpha * np.sqrt(eigval) * eigfunc"
   ]
  },
  {
   "cell_type": "code",
   "execution_count": null,
   "metadata": {},
   "outputs": [],
   "source": [
    "first_mode = mode_of_variation(\n",
    "    1,\n",
    "    mean_function,\n",
    "    eigenvalues_sorted[0],\n",
    "    eigenfunctions_sorted[:, 0],\n",
    ")\n",
    "second_mode = mode_of_variation(\n",
    "    1,\n",
    "    mean_function,\n",
    "    eigenvalues_sorted[1],\n",
    "    eigenfunctions_sorted[:, 1],\n",
    ")"
   ]
  },
  {
   "cell_type": "code",
   "execution_count": null,
   "metadata": {},
   "outputs": [],
   "source": [
    "fig, ax = plt.subplots()\n",
    "ax.plot(grid_densities_univ, mean_function, label=\"Mean function\")\n",
    "ax.plot(grid_densities_univ, first_mode, label=\"First mode\")\n",
    "ax.plot(grid_densities_univ, second_mode, label=\"Second mode\")\n",
    "plt.legend()\n",
    "plt.show()"
   ]
  },
  {
   "cell_type": "markdown",
   "metadata": {},
   "source": [
    "## Fréchet mean estimation"
   ]
  },
  {
   "cell_type": "code",
   "execution_count": null,
   "metadata": {},
   "outputs": [],
   "source": [
    "mean_qdf = np.mean(quantile_densities_discretized, axis=0)\n",
    "plt.plot(grid_quantiles_univ, mean_qdf)"
   ]
  },
  {
   "cell_type": "code",
   "execution_count": null,
   "metadata": {},
   "outputs": [],
   "source": [
    "# For tests:\n",
    "cdfs_discretized = cdf_from_density(\n",
    "    grid_densities_univ,\n",
    "    densities_discretized[:, :, np.newaxis],\n",
    "    axis=1,\n",
    ")"
   ]
  },
  {
   "cell_type": "code",
   "execution_count": null,
   "metadata": {},
   "outputs": [],
   "source": [
    "# Check if frechet mean density is a density\n",
    "frechet_mean_density = density_from_qd(mean_qdf, grid_densities_univ)\n",
    "(\n",
    "    cdf_from_density(grid_densities_univ, frechet_mean_density, axis=0)[0],\n",
    "    cdf_from_density(grid_densities_univ, frechet_mean_density, axis=0)[-1],\n",
    "    (frechet_mean_density >= 0).all(),\n",
    ")"
   ]
  },
  {
   "cell_type": "code",
   "execution_count": null,
   "metadata": {},
   "outputs": [],
   "source": [
    "def wasserstein_frechet_mean(qds_discretized, grid):\n",
    "    \"\"\"Compute Wasserstein-Fréchet mean from sample.\"\"\"\n",
    "    mean_qdf = np.mean(qds_discretized, axis=0)\n",
    "    return density_from_qd(mean_qdf, grid)"
   ]
  },
  {
   "cell_type": "code",
   "execution_count": null,
   "metadata": {},
   "outputs": [],
   "source": [
    "f_oplus = wasserstein_frechet_mean(quantile_densities_discretized, grid_densities_univ)\n",
    "F_oplus = cdf_from_density(\n",
    "    grid_densities_univ,\n",
    "    f_oplus,\n",
    "    axis=0,\n",
    ")\n",
    "F_oplus[-1]"
   ]
  },
  {
   "cell_type": "code",
   "execution_count": null,
   "metadata": {},
   "outputs": [],
   "source": []
  }
 ],
 "metadata": {
  "language_info": {
   "codemirror_mode": {
    "name": "ipython",
    "version": 3
   },
   "file_extension": ".py",
   "mimetype": "text/x-python",
   "name": "python",
   "nbconvert_exporter": "python",
   "pygments_lexer": "ipython3"
  }
 },
 "nbformat": 4,
 "nbformat_minor": 2
}
