{
 "cells": [
  {
   "cell_type": "code",
   "execution_count": null,
   "metadata": {},
   "outputs": [],
   "source": [
    "from frechet_fda.data_generation_helpers import (\n",
    "    gen_params_scenario_one,\n",
    "    make_truncnorm_pdf,\n",
    ")\n",
    "from frechet_fda.distribution_tools import (\n",
    "    get_optimal_range,\n",
    "    make_distribution_objects,\n",
    "    mean_func,\n",
    "    pdf_to_qdf,\n",
    "    qdf_to_pdf,\n",
    ")"
   ]
  },
  {
   "cell_type": "code",
   "execution_count": null,
   "metadata": {},
   "outputs": [],
   "source": [
    "# Set parameters\n",
    "n = 200\n",
    "grid_size = 10000\n",
    "trunc = 3\n",
    "mus, sigmas = gen_params_scenario_one(n)"
   ]
  },
  {
   "cell_type": "code",
   "execution_count": null,
   "metadata": {},
   "outputs": [],
   "source": [
    "# Generate pdfs within truncation points\n",
    "pdfs = make_truncnorm_pdf(-trunc, trunc, mus, sigmas, grid_size=grid_size)"
   ]
  },
  {
   "cell_type": "code",
   "execution_count": null,
   "metadata": {},
   "outputs": [],
   "source": [
    "# Make Distribution class objects\n",
    "my_pdfs = make_distribution_objects(pdfs)"
   ]
  },
  {
   "cell_type": "code",
   "execution_count": null,
   "metadata": {},
   "outputs": [],
   "source": [
    "# For numerical correction: shorten the range for smaller sigmas to get rid of\n",
    "# numerical artifacts when computing aintegrals, derivatives and means later\n",
    "new_ranges = get_optimal_range(my_pdfs)"
   ]
  },
  {
   "cell_type": "code",
   "execution_count": null,
   "metadata": {},
   "outputs": [],
   "source": [
    "# Generate pdfs again, this time within individual ranges\n",
    "pdfs2 = [\n",
    "    make_truncnorm_pdf(\n",
    "        new_ranges[i][0], new_ranges[i][1], mus[i], sigmas[i], grid_size=grid_size,\n",
    "    )[0]\n",
    "    for i in range(n)\n",
    "]"
   ]
  },
  {
   "cell_type": "code",
   "execution_count": null,
   "metadata": {},
   "outputs": [],
   "source": [
    "# Generate all the distribution objects\n",
    "new_pdfs = make_distribution_objects(pdfs2)\n",
    "new_cdfs = [pdf.integrate() for pdf in new_pdfs]\n",
    "new_qfs = [cdf.invert() for cdf in new_cdfs]\n",
    "new_qdfs = [qf.differentiate() for qf in new_qfs]"
   ]
  },
  {
   "cell_type": "code",
   "execution_count": null,
   "metadata": {},
   "outputs": [],
   "source": [
    "# Compare the new pdf with shorter range against the one with the initial range\n",
    "min_sigma = sigmas.argmin()\n",
    "max_sigma = sigmas.argmax()\n",
    "my_pdfs[min_sigma].compare(new_pdfs[min_sigma] + 0.01)\n",
    "my_pdfs[max_sigma].compare(new_pdfs[max_sigma] + 0.001)"
   ]
  },
  {
   "cell_type": "code",
   "execution_count": null,
   "metadata": {},
   "outputs": [],
   "source": [
    "# New qdfs dont have astronomical numbers near the bounds\n",
    "new_qdfs[min_sigma].y[0], new_qdfs[min_sigma].y[-1]"
   ]
  },
  {
   "cell_type": "code",
   "execution_count": null,
   "metadata": {},
   "outputs": [],
   "source": [
    "# Compare different methods to compute mean qdf: either sequential transformations, as\n",
    "# in new_qdfs, or formula 1/pdf(qf(t)), as implemented in pdf_to_qf func\n",
    "mean_qdf = mean_func(new_qdfs)\n",
    "mean_qdf2 = mean_func([pdf_to_qdf(pdf) for pdf in new_pdfs])\n",
    "mean_qdf.compare(\n",
    "    mean_qdf2 + 10,\n",
    "    label_self=\"Sequential Transformations\",\n",
    "    label_other=\"Direct formula\",\n",
    ")"
   ]
  },
  {
   "cell_type": "code",
   "execution_count": null,
   "metadata": {},
   "outputs": [],
   "source": [
    "# Compute Fréchet means\n",
    "mean_pdf = mean_qdf.integrate().vcenter().invert().differentiate()\n",
    "mean_pdf2 = qdf_to_pdf(mean_qdf2)\n",
    "mean_pdf.compare(\n",
    "    mean_pdf2 + 0.001,\n",
    "    label_self=\"Sequential Transformations\",\n",
    "    label_other=\"Direct formula\",\n",
    ")"
   ]
  },
  {
   "cell_type": "code",
   "execution_count": null,
   "metadata": {},
   "outputs": [],
   "source": [
    "temp = mean_pdf\n",
    "temp = temp.integrate()\n",
    "temp = temp.invert()\n",
    "temp = temp.differentiate()\n",
    "temp = temp.integrate()\n",
    "temp.vcenter().plot()"
   ]
  }
 ],
 "metadata": {
  "language_info": {
   "codemirror_mode": {
    "name": "ipython",
    "version": 3
   },
   "file_extension": ".py",
   "mimetype": "text/x-python",
   "name": "python",
   "nbconvert_exporter": "python",
   "pygments_lexer": "ipython3"
  }
 },
 "nbformat": 4,
 "nbformat_minor": 2
}
