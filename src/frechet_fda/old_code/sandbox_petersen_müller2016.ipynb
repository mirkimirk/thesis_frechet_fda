{
 "cells": [
  {
   "cell_type": "code",
   "execution_count": null,
   "metadata": {},
   "outputs": [],
   "source": [
    "\"\"\"Sandbox module.\"\"\"\n",
    "\n",
    "import numpy as np\n",
    "from data_generation import (\n",
    "    gen_discretized_distributions,\n",
    "    gen_grids_and_parameters,\n",
    ")\n",
    "from misc import (\n",
    "    dens_from_qd,\n",
    "    qd_from_dens,\n",
    ")\n",
    "\n",
    "%matplotlib inline"
   ]
  },
  {
   "cell_type": "code",
   "execution_count": null,
   "metadata": {},
   "outputs": [],
   "source": [
    "import warnings\n",
    "\n",
    "warnings.filterwarnings(\"always\")"
   ]
  },
  {
   "cell_type": "code",
   "execution_count": null,
   "metadata": {},
   "outputs": [],
   "source": [
    "import matplotlib.pyplot as plt\n",
    "from scipy.interpolate import CubicSpline"
   ]
  },
  {
   "cell_type": "code",
   "execution_count": null,
   "metadata": {},
   "outputs": [],
   "source": [
    "# Set up data\n",
    "n = 200\n",
    "gridnum = 1000\n",
    "truncation_point = 3\n",
    "\n",
    "grid_pdfs, grid_qfs, mus, sigmas = gen_grids_and_parameters(\n",
    "    n, gridnum, truncation_point, delta=0,\n",
    ")"
   ]
  },
  {
   "cell_type": "code",
   "execution_count": null,
   "metadata": {},
   "outputs": [],
   "source": [
    "# Generate distributions\n",
    "pdfs_discretized, cdfs_discretized, qfs_discretized, qdfs_discretized = (\n",
    "    gen_discretized_distributions(grid_pdfs, grid_qfs, mus, sigmas, truncation_point)\n",
    ")"
   ]
  },
  {
   "cell_type": "code",
   "execution_count": null,
   "metadata": {},
   "outputs": [],
   "source": [
    "fig, ax = plt.subplots()\n",
    "ax.plot(grid_pdfs, CubicSpline(grid_pdfs, pdfs_discretized, axis=-1)(grid_pdfs)[0], label=\"Spline\")\n",
    "ax.plot(grid_pdfs, pdfs_discretized[0], label=\"Pdf\")\n",
    "plt.legend()\n",
    "plt.show()"
   ]
  },
  {
   "cell_type": "code",
   "execution_count": null,
   "metadata": {},
   "outputs": [],
   "source": [
    "dens_to_look_at = 40\n",
    "a = qd_from_dens(pdfs_discretized[dens_to_look_at], grid_pdfs, grid_qfs)\n",
    "b = dens_from_qd(a, grid_qfs, grid_pdfs)\n",
    "sigmas[:10]"
   ]
  },
  {
   "cell_type": "code",
   "execution_count": null,
   "metadata": {},
   "outputs": [],
   "source": [
    "fig, ax = plt.subplots()\n",
    "ax.plot(grid_qfs, a, label=\"qdf\")\n",
    "plt.legend()\n",
    "plt.show()"
   ]
  },
  {
   "cell_type": "code",
   "execution_count": null,
   "metadata": {},
   "outputs": [],
   "source": [
    "fig, ax = plt.subplots()\n",
    "ax.plot(grid_pdfs, pdfs_discretized[dens_to_look_at], label=\"pdf\")\n",
    "ax.plot(grid_pdfs, b + 0.001, label=\"doubletransformed pdf\")\n",
    "plt.legend()\n",
    "plt.show()"
   ]
  },
  {
   "cell_type": "code",
   "execution_count": null,
   "metadata": {},
   "outputs": [],
   "source": [
    "qdfs_discretized[0][499], pdfs_discretized[0][499]"
   ]
  },
  {
   "cell_type": "code",
   "execution_count": null,
   "metadata": {},
   "outputs": [],
   "source": [
    "(np.log(qdfs_discretized[0]) + np.log(np.interp(qfs_discretized[0], grid_pdfs, pdfs_discretized[0])))"
   ]
  },
  {
   "cell_type": "code",
   "execution_count": null,
   "metadata": {},
   "outputs": [],
   "source": [
    "def log_qd_transformation(qd, lqdsup, lqdsup):\n",
    "    \"\"\"Log quantile density transformation\"\"\"\n",
    "    eps = 1e-4\n",
    "    integral_qd = riemann_sum_arrays(qdsup, array=qd, axis=-1, cumsum=False)\n",
    "    if not np.isclose(integral_qd[-1], np.ptp(dsup), atol=eps):\n",
    "        msg = (\"Quantile Density does not integrate to the range of the densities with \"\n",
    "        f\"tolerance {eps}.\"\n",
    "        f\"\\n Integral is: {integral_qd[...,-1]}\"\n",
    "        f\"\\n Range is: {np.ptp(dsup)}\")\n",
    "        raise ValueError(msg)\n",
    "    return np.log(qd)\n",
    "\n",
    "\n",
    "def inverse_transformation():"
   ]
  },
  {
   "cell_type": "code",
   "execution_count": null,
   "metadata": {},
   "outputs": [],
   "source": []
  }
 ],
 "metadata": {
  "language_info": {
   "codemirror_mode": {
    "name": "ipython",
    "version": 3
   },
   "file_extension": ".py",
   "mimetype": "text/x-python",
   "name": "python",
   "nbconvert_exporter": "python",
   "pygments_lexer": "ipython3"
  }
 },
 "nbformat": 4,
 "nbformat_minor": 2
}
