{
 "cells": [
  {
   "cell_type": "code",
   "execution_count": null,
   "metadata": {},
   "outputs": [],
   "source": [
    "\"\"\"Sandbox module.\"\"\"\n",
    "\n",
    "import numpy as np\n",
    "from data_generation import (\n",
    "    gen_discretized_distributions,\n",
    "    gen_grids_and_parameters,\n",
    ")\n",
    "from misc import (\n",
    "    cdf_from_density,\n",
    "    quantile_from_density,\n",
    "    riemann_sum_arrays,\n",
    "    trunc_norm_pdf,\n",
    ")\n",
    "\n",
    "%matplotlib inline\n",
    "\n",
    "import warnings\n",
    "\n",
    "from scipy.stats import truncnorm\n",
    "\n",
    "warnings.filterwarnings(\"always\")\n",
    "import matplotlib.pyplot as plt\n",
    "from scipy.interpolate import CubicSpline"
   ]
  },
  {
   "cell_type": "code",
   "execution_count": null,
   "metadata": {},
   "outputs": [],
   "source": [
    "# def riemann_sum_arrays(support_grid, array, axis=-1, cumsum=False):\n",
    "#     \"\"\"Computes the Riemann sum using the Midpoint rule for the given array, along\n",
    "#     the axis that contains the grid of values.\"\"\"\n",
    "\n",
    "#     # Calculate the step size between consecutive grid points\n",
    "\n",
    "#     # Calculate midpoints\n",
    "\n",
    "#     # Sample the function at the midpoints\n",
    "#     if array.ndim > 1:\n",
    "#         for i in range(len(midpoint_values)):\n",
    "\n",
    "#     # Compute the cumulative sum along the specified axis (i.e.,\n",
    "#     # the integral up to each grid point)\n",
    "#     if cumsum:\n",
    "#         # Append last value so we have same shape as before\n",
    "#     # Or just the integral"
   ]
  },
  {
   "cell_type": "code",
   "execution_count": null,
   "metadata": {},
   "outputs": [],
   "source": [
    "def dens_from_qd(qd, qdsup=None, dsup=None):\n",
    "    \"\"\"Compute density from a quantile density function.\n",
    "\n",
    "    'Inspired' from qd2dens in fdadensity package in R.\n",
    "\n",
    "    \"\"\"\n",
    "    # Validate input\n",
    "    eps = 1e-3\n",
    "    boundaries = [np.min(qdsup), np.max(qdsup)]\n",
    "    if not np.allclose(boundaries, [0, 1], atol=eps):\n",
    "        msg = f\"Please check the support of the QF domain's boundaries: {boundaries}\"\n",
    "        raise ValueError(msg)\n",
    "\n",
    "    integral_qd = riemann_sum_arrays(qdsup, array=qd, axis=-1, cumsum=True)\n",
    "    if not np.isclose(integral_qd[-1], np.ptp(dsup), atol=eps):\n",
    "        msg = (\n",
    "            \"Quantile Density does not integrate to the range of the densities with \"\n",
    "            f\"tolerance {eps}.\"\n",
    "            f\"\\n Integral is: {integral_qd[...,-1]}\"\n",
    "            f\"\\n Range is: {np.ptp(dsup)}\"\n",
    "        )\n",
    "        raise ValueError(msg)\n",
    "\n",
    "    # Calculate new support grid\n",
    "    dsup_temp = dsup[0] + integral_qd\n",
    "\n",
    "    # Calculate density\n",
    "    dens_temp = 1 / qd\n",
    "    idx_unique = np.unique(dsup_temp, return_index=True, axis=-1)[1]\n",
    "    dsup_temp = dsup_temp[..., idx_unique]\n",
    "    dens_temp = dens_temp[..., idx_unique]\n",
    "    dens = np.interp(dsup, dsup_temp, dens_temp)\n",
    "\n",
    "    if dens.ndim > 1:\n",
    "        dens = np.zeros(qd.shape)\n",
    "        for i in range(len(dens)):\n",
    "            temp_sup, ind = np.unique(dsup_temp[i], return_index=True)\n",
    "            temp = dens_temp[i][..., ind]\n",
    "            dens[i] = CubicSpline(temp_sup, temp, bc_type=\"natural\", axis=-1)(dsup)\n",
    "    else:\n",
    "        temp_sup, ind = np.unique(dsup_temp, return_index=True)\n",
    "        temp = dens_temp[..., ind]\n",
    "        qd = CubicSpline(temp_sup, temp, bc_type=\"natural\", axis=-1)(dsup)\n",
    "\n",
    "    # Normalize the density\n",
    "    dens /= riemann_sum_arrays(dsup, dens, axis=-1, cumsum=False)[..., np.newaxis]\n",
    "\n",
    "    return dens"
   ]
  },
  {
   "cell_type": "code",
   "execution_count": null,
   "metadata": {},
   "outputs": [],
   "source": [
    "def qd_from_dens(dens, dsup=None, qdsup=None):\n",
    "    \"\"\"Compute quantile densities directly from densities.\n",
    "\n",
    "    'Inspired' from dens2qd in fdadensity package in R.\n",
    "\n",
    "    \"\"\"\n",
    "    # Validate input\n",
    "    eps = 1e-3\n",
    "    boundaries = [np.min(qdsup), np.max(qdsup)]\n",
    "    if not np.allclose(boundaries, [0, 1], atol=eps):\n",
    "        msg = f\"Please check the support of the QF domain's boundaries: {boundaries}\"\n",
    "        raise ValueError(msg)\n",
    "\n",
    "    integral_dens = riemann_sum_arrays(dsup, array=dens, axis=-1, cumsum=True)\n",
    "    deviations_from_1 = abs(integral_dens[...,-1] - 1)\n",
    "    if np.any(deviations_from_1 > eps):\n",
    "        warnings.warn(\n",
    "            f\"Not all provided densities integrate to 1 with tolerance {eps}!\"\n",
    "            f\"\\n Max case of deviation is: {deviations_from_1.max()}\"\n",
    "            f\"\\n In position: {deviations_from_1.argmax()} \"\n",
    "            \"\\n Performing normalization...\",\n",
    "        )\n",
    "        dens /= integral_dens[...,-1][..., np.newaxis]\n",
    "\n",
    "    qdsup_temp = integral_dens\n",
    "\n",
    "    qd_temp = 1 / dens\n",
    "\n",
    "    if dens.ndim > 1:\n",
    "        qd = np.zeros(dens.shape)\n",
    "        for i in range(len(qd)):\n",
    "            temp_sup, ind = np.unique(qdsup_temp[i], return_index=True)\n",
    "            temp = qd_temp[i][..., ind]\n",
    "            qd[i] = CubicSpline(temp_sup, temp, bc_type=\"natural\", axis=-1)(qdsup)\n",
    "    else:\n",
    "        temp_sup, ind = np.unique(qdsup_temp, return_index=True)\n",
    "        temp = qd_temp[..., ind]\n",
    "        qd = CubicSpline(temp_sup, temp, bc_type=\"natural\", axis=-1)(qdsup)\n",
    "\n",
    "    integral_qd = riemann_sum_arrays(qdsup, qd, axis=-1, cumsum=False)\n",
    "    qd *= np.ptp(dsup) / integral_qd[..., np.newaxis]\n",
    "\n",
    "    return qd"
   ]
  },
  {
   "cell_type": "code",
   "execution_count": null,
   "metadata": {},
   "outputs": [],
   "source": [
    "def gen_discretized_distributions(grid_pdfs, grid_qfs, mus, sigmas, truncation_point):\n",
    "    \"\"\"Generate discretized pdfs, cdfs, qfs, and qdfs.\"\"\"\n",
    "    # Truncated pdfs\n",
    "    pdfs_discretized = trunc_norm_pdf(\n",
    "        grid_pdfs[:, np.newaxis],\n",
    "        mus,\n",
    "        sigmas,\n",
    "        -truncation_point,\n",
    "        truncation_point,\n",
    "    )\n",
    "\n",
    "    # Truncated cdfs\n",
    "    cdfs_discretized = cdf_from_density(\n",
    "        grid_pdfs,\n",
    "        pdfs_discretized,\n",
    "        axis=-1,\n",
    "    )\n",
    "\n",
    "    # Truncated qfs\n",
    "    qfs_discretized = quantile_from_density(\n",
    "        pdfs_discretized,\n",
    "        grid_pdfs,\n",
    "        grid_qfs,\n",
    "    )\n",
    "\n",
    "    # Truncated qdfs\n",
    "    qdfs_discretized = qd_from_dens(\n",
    "        pdfs_discretized, dsup=grid_pdfs, qdsup=grid_qfs,\n",
    "    )\n",
    "\n",
    "    return pdfs_discretized, cdfs_discretized, qfs_discretized, qdfs_discretized"
   ]
  },
  {
   "cell_type": "code",
   "execution_count": null,
   "metadata": {},
   "outputs": [],
   "source": [
    "# Set up data\n",
    "n = 200\n",
    "gridnum = 1000\n",
    "truncation_point = 3\n",
    "\n",
    "grid_pdfs, grid_qfs, mus, sigmas = gen_grids_and_parameters(\n",
    "    n, gridnum, truncation_point, delta=0,\n",
    ")"
   ]
  },
  {
   "cell_type": "code",
   "execution_count": null,
   "metadata": {},
   "outputs": [],
   "source": [
    "# Generate distributions\n",
    "pdfs_discretized, cdfs_discretized, qfs_discretized, qdfs_discretized = (\n",
    "    gen_discretized_distributions(grid_pdfs, grid_qfs, mus, sigmas, truncation_point)\n",
    ")"
   ]
  },
  {
   "cell_type": "code",
   "execution_count": null,
   "metadata": {},
   "outputs": [],
   "source": [
    "dens_to_look_at = 40\n",
    "a = qd_from_dens(pdfs_discretized[dens_to_look_at], grid_pdfs, grid_qfs)\n",
    "b = dens_from_qd(a, grid_qfs, grid_pdfs)"
   ]
  },
  {
   "cell_type": "code",
   "execution_count": null,
   "metadata": {},
   "outputs": [],
   "source": [
    "ideal_quantiles = truncnorm.ppf(grid_qfs, loc=0, scale=sigmas[dens_to_look_at], a=(-truncation_point /sigmas[dens_to_look_at]), b=(truncation_point /sigmas[dens_to_look_at]))\n",
    "fig, ax = plt.subplots()\n",
    "ax.plot(grid_qfs, ideal_quantiles + 0.1, label=\"Ideal\")\n",
    "ax.plot(grid_qfs, qfs_discretized[dens_to_look_at], label=\"Mine\")\n",
    "plt.legend()\n",
    "plt.show()"
   ]
  },
  {
   "cell_type": "code",
   "execution_count": null,
   "metadata": {},
   "outputs": [],
   "source": [
    "ideal_qdfs = truncnorm.pdf(ideal_quantiles, loc=0, scale=sigmas[dens_to_look_at], a=(-truncation_point /sigmas[dens_to_look_at]), b=(truncation_point /sigmas[dens_to_look_at]))\n",
    "fig, ax = plt.subplots()\n",
    "ax.plot(grid_pdfs, ideal_qdfs, label='\"Ideal\" LOL')\n",
    "ax.plot(grid_pdfs, b + 0.01, label=\"Mine\")\n",
    "ax.plot(grid_pdfs, pdfs_discretized[dens_to_look_at], label=\"Original\")\n",
    "plt.legend()\n",
    "plt.show()"
   ]
  },
  {
   "cell_type": "code",
   "execution_count": null,
   "metadata": {},
   "outputs": [],
   "source": [
    "riemann_sum_arrays(grid_qfs, a)"
   ]
  },
  {
   "cell_type": "code",
   "execution_count": null,
   "metadata": {},
   "outputs": [],
   "source": [
    "a[:5], a[-5:]"
   ]
  },
  {
   "cell_type": "code",
   "execution_count": null,
   "metadata": {},
   "outputs": [],
   "source": [
    "fig, ax = plt.subplots()\n",
    "ax.plot(grid_qfs, a, label=\"qdf\")\n",
    "plt.legend()\n",
    "plt.show()"
   ]
  },
  {
   "cell_type": "code",
   "execution_count": null,
   "metadata": {},
   "outputs": [],
   "source": [
    "# Compare if pdf -> qdf -> pdf still looks like original pdf\n",
    "fig, ax = plt.subplots()\n",
    "ax.plot(grid_pdfs, pdfs_discretized[dens_to_look_at], label=\"pdf\")\n",
    "ax.plot(grid_pdfs, b + 0.001, label=\"doubletransformed pdf\")\n",
    "plt.legend()\n",
    "plt.show()"
   ]
  },
  {
   "cell_type": "code",
   "execution_count": null,
   "metadata": {},
   "outputs": [],
   "source": [
    "# Look how spline looks compared to usual distribution\n",
    "fig, ax = plt.subplots()\n",
    "ax.plot(grid_pdfs, CubicSpline(grid_pdfs, pdfs_discretized, axis=-1)(grid_pdfs)[dens_to_look_at], label=\"Spline\")\n",
    "ax.plot(grid_pdfs, pdfs_discretized[dens_to_look_at], label=\"Pdf\")\n",
    "plt.legend()\n",
    "plt.show()"
   ]
  },
  {
   "cell_type": "code",
   "execution_count": null,
   "metadata": {},
   "outputs": [],
   "source": [
    "qdfs_discretized[0][499], pdfs_discretized[0][499]"
   ]
  },
  {
   "cell_type": "code",
   "execution_count": null,
   "metadata": {},
   "outputs": [],
   "source": [
    "(np.log(qdfs_discretized[0]) + np.log(np.interp(qfs_discretized[0], grid_pdfs, pdfs_discretized[0])))"
   ]
  },
  {
   "cell_type": "code",
   "execution_count": null,
   "metadata": {},
   "outputs": [],
   "source": [
    "a = np.array([0,1,2,3,4])"
   ]
  }
 ],
 "metadata": {
  "language_info": {
   "codemirror_mode": {
    "name": "ipython",
    "version": 3
   },
   "file_extension": ".py",
   "mimetype": "text/x-python",
   "name": "python",
   "nbconvert_exporter": "python",
   "pygments_lexer": "ipython3"
  }
 },
 "nbformat": 4,
 "nbformat_minor": 2
}
