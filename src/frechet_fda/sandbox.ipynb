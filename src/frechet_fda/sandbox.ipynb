{
 "cells": [
  {
   "cell_type": "code",
   "execution_count": null,
   "metadata": {},
   "outputs": [],
   "source": [
    "\"\"\"Sandbox module.\"\"\"\n",
    "from functools import partial\n",
    "\n",
    "import matplotlib.pyplot as plt\n",
    "import numpy as np"
   ]
  },
  {
   "cell_type": "markdown",
   "metadata": {},
   "source": [
    "## Nonparamatric kernel density estimation"
   ]
  },
  {
   "cell_type": "code",
   "execution_count": null,
   "metadata": {},
   "outputs": [],
   "source": [
    "kernels = {\n",
    "    \"Epanechnikov\": lambda u: 0.75 * (1 - u**2) * int(abs(u) <= 1),\n",
    "    \"Uniform\": lambda u: 0.5 * int(abs(u) <= 1),\n",
    "    \"Triangular\": lambda u: (1 - abs(u)) * int(abs(u) <= 1),\n",
    "}"
   ]
  },
  {
   "cell_type": "code",
   "execution_count": null,
   "metadata": {},
   "outputs": [],
   "source": [
    "def kernel_estimator(x, h, s, kernel_type):\n",
    "    \"\"\"Kernel density estimator function.\"\"\"\n",
    "    temp_func = np.vectorize(kernels[kernel_type])\n",
    "    return 1 / (len(s) * h) * sum(temp_func((x - s) / h))"
   ]
  },
  {
   "cell_type": "code",
   "execution_count": null,
   "metadata": {},
   "outputs": [],
   "source": [
    "sample_size = 200\n",
    "grid_size = 100\n",
    "grid_ending = 10\n",
    "bandwidth = 2\n",
    "\n",
    "sample = np.random.default_rng().normal(size=50)\n",
    "grid = np.linspace(start=-grid_ending, stop=grid_ending, num=grid_size)"
   ]
  },
  {
   "cell_type": "code",
   "execution_count": null,
   "metadata": {},
   "outputs": [],
   "source": [
    "kernel_estimator_given_sample = partial(kernel_estimator, s=sample)"
   ]
  },
  {
   "cell_type": "code",
   "execution_count": null,
   "metadata": {},
   "outputs": [],
   "source": [
    "values_epa = [\n",
    "    kernel_estimator_given_sample(x=i, h=bandwidth, kernel_type=\"Epanechnikov\")\n",
    "    for i in grid\n",
    "]"
   ]
  },
  {
   "cell_type": "code",
   "execution_count": null,
   "metadata": {},
   "outputs": [],
   "source": [
    "values_uni = [\n",
    "    kernel_estimator_given_sample(x=i, h=bandwidth, kernel_type=\"Uniform\") for i in grid\n",
    "]"
   ]
  },
  {
   "cell_type": "code",
   "execution_count": null,
   "metadata": {},
   "outputs": [],
   "source": [
    "plt.plot(grid, values_epa)\n",
    "plt.plot(grid, values_uni)"
   ]
  },
  {
   "cell_type": "code",
   "execution_count": null,
   "metadata": {},
   "outputs": [],
   "source": []
  },
  {
   "cell_type": "code",
   "execution_count": null,
   "metadata": {},
   "outputs": [],
   "source": []
  }
 ],
 "metadata": {
  "language_info": {
   "codemirror_mode": {
    "name": "ipython",
    "version": 3
   },
   "file_extension": ".py",
   "mimetype": "text/x-python",
   "name": "python",
   "nbconvert_exporter": "python",
   "pygments_lexer": "ipython3"
  }
 },
 "nbformat": 4,
 "nbformat_minor": 2
}
