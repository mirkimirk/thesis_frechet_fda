{
 "cells": [
  {
   "cell_type": "code",
   "execution_count": null,
   "metadata": {},
   "outputs": [],
   "source": [
    "\"\"\"Sandbox module.\"\"\"\n",
    "from functools import partial\n",
    "\n",
    "import matplotlib.pyplot as plt\n",
    "import numpy as np\n",
    "from scipy import stats\n",
    "\n",
    "%matplotlib inline"
   ]
  },
  {
   "cell_type": "markdown",
   "metadata": {},
   "source": [
    "# Nonparametric Statistics"
   ]
  },
  {
   "cell_type": "markdown",
   "metadata": {},
   "source": [
    "## Kernel density estimation"
   ]
  },
  {
   "cell_type": "code",
   "execution_count": null,
   "metadata": {},
   "outputs": [],
   "source": [
    "kernels = {\n",
    "    \"Epanechnikov\": lambda u: 3\n",
    "    / (4 * np.sqrt(5))\n",
    "    * (1 - (u**2) / 5)\n",
    "    * int(abs(u) <= np.sqrt(5)),\n",
    "    \"Uniform\": lambda u: 0.5 * int(abs(u) <= 1),\n",
    "    \"Triangular\": lambda u: (1 - abs(u)) * int(abs(u) <= 1),\n",
    "}"
   ]
  },
  {
   "cell_type": "code",
   "execution_count": null,
   "metadata": {},
   "outputs": [],
   "source": [
    "def kernel_estimator(x, h, sample, kernel_type):\n",
    "    \"\"\"Kernel density estimator function.\"\"\"\n",
    "    k = np.vectorize(kernels[kernel_type])\n",
    "    return 1 / (len(sample) * h) * sum(k((x - sample) / h))"
   ]
  },
  {
   "cell_type": "markdown",
   "metadata": {},
   "source": [
    "### Fix parameters and generate sample"
   ]
  },
  {
   "cell_type": "code",
   "execution_count": null,
   "metadata": {},
   "outputs": [],
   "source": [
    "n = 200\n",
    "n_grid = 50\n",
    "grid_ending = 10\n",
    "mu = 0\n",
    "sigma = 10\n",
    "\n",
    "sample = np.random.default_rng().normal(loc=mu, scale=sigma, size=n)\n",
    "grid = np.linspace(start=-grid_ending, stop=grid_ending, num=n_grid)\n",
    "# Rule-of-Thumb bandwidth (Li and Racine 2007, p. 66)\n",
    "bandwidth = np.std(sample) * (n ** (-0.2))  # should implement optimal bandwidth"
   ]
  },
  {
   "cell_type": "code",
   "execution_count": null,
   "metadata": {},
   "outputs": [],
   "source": [
    "kernel_estimator_given_sample = partial(kernel_estimator, sample=sample)"
   ]
  },
  {
   "cell_type": "markdown",
   "metadata": {},
   "source": [
    "### Generate fitted values"
   ]
  },
  {
   "cell_type": "code",
   "execution_count": null,
   "metadata": {},
   "outputs": [],
   "source": [
    "values_epa = [\n",
    "    kernel_estimator_given_sample(x=i, h=bandwidth, kernel_type=\"Epanechnikov\")\n",
    "    for i in grid\n",
    "]\n",
    "values_uni = [\n",
    "    kernel_estimator_given_sample(x=i, h=bandwidth, kernel_type=\"Uniform\") for i in grid\n",
    "]\n",
    "values_tri = [\n",
    "    kernel_estimator_given_sample(x=i, h=bandwidth, kernel_type=\"Triangular\")\n",
    "    for i in grid\n",
    "]"
   ]
  },
  {
   "cell_type": "markdown",
   "metadata": {},
   "source": [
    "### Plots"
   ]
  },
  {
   "cell_type": "code",
   "execution_count": null,
   "metadata": {},
   "outputs": [],
   "source": [
    "fig, ax = plt.subplots()\n",
    "ax.plot(grid, values_epa, label=\"Epanechnikov\")\n",
    "ax.plot(grid, values_tri, label=\"Triangular\")\n",
    "ax.plot(grid, stats.norm.pdf(grid, loc=mu, scale=sigma), label=\"True density\")\n",
    "# plot histogram for comparison\n",
    "ax.hist(\n",
    "    sample,\n",
    "    bins=grid,\n",
    "    density=True,\n",
    "    histtype=\"step\",\n",
    "    edgecolor=\"black\",\n",
    "    linewidth=0.5,\n",
    "    label=\"Histogram\",\n",
    ")\n",
    "plt.legend()\n",
    "plt.show()"
   ]
  },
  {
   "cell_type": "markdown",
   "metadata": {},
   "source": [
    "## Kernel Regression\n",
    "\n",
    "Context: we want to investigate the nonparametric regression relation $y_i = m(x_i) +\n",
    "\\epsilon_i$, where $y_i$ is a dependent variable, $x_i$ an explanatory variable, and\n",
    "$\\epsilon_i$ an iid error term, for observations $i = 1, ..., n$."
   ]
  },
  {
   "cell_type": "markdown",
   "metadata": {},
   "source": [
    "### Sample generation"
   ]
  },
  {
   "cell_type": "code",
   "execution_count": null,
   "metadata": {},
   "outputs": [],
   "source": [
    "def m(x):\n",
    "    \"\"\"True function.\"\"\"\n",
    "    return 3 * np.sin(x) + 2 * x"
   ]
  },
  {
   "cell_type": "code",
   "execution_count": null,
   "metadata": {},
   "outputs": [],
   "source": [
    "epsilon = np.random.default_rng().normal(0, sigma / 2, size=n)\n",
    "y = m(sample) + epsilon"
   ]
  },
  {
   "cell_type": "code",
   "execution_count": null,
   "metadata": {},
   "outputs": [],
   "source": [
    "def m_hat(x, y, h, sample, kernel_type):\n",
    "    \"\"\"Estimator.\"\"\"\n",
    "    k = np.vectorize(kernels[kernel_type])\n",
    "    numerator = sum(k((x - sample) / h) * y)\n",
    "    denominator = sum(k((x - sample) / h))\n",
    "    return (\n",
    "        numerator / denominator\n",
    "    )  # , len(k((x - sample) / h) * y), len(k((x - sample) / h))"
   ]
  },
  {
   "cell_type": "code",
   "execution_count": null,
   "metadata": {},
   "outputs": [],
   "source": [
    "temp1 = partial(m_hat, y=y, h=bandwidth, sample=sample, kernel_type=\"Epanechnikov\")\n",
    "temp2 = np.vectorize(temp1)"
   ]
  },
  {
   "cell_type": "code",
   "execution_count": null,
   "metadata": {},
   "outputs": [],
   "source": [
    "fig, ax = plt.subplots()\n",
    "ax.plot(grid, m(grid), label=\"True relation\")\n",
    "ax.plot(grid, temp2(x=grid), label=\"Nadaraya-Watson estimator\")\n",
    "plt.legend()\n",
    "plt.show()"
   ]
  },
  {
   "cell_type": "markdown",
   "metadata": {},
   "source": [
    "In above plot we see that the rule-of-thumb bandwidth is too large. When there is time\n",
    "I could implement a better algorithm to search for the optimal bandwidth."
   ]
  },
  {
   "cell_type": "markdown",
   "metadata": {},
   "source": [
    "# Functional Data Analysis"
   ]
  },
  {
   "cell_type": "markdown",
   "metadata": {},
   "source": []
  }
 ],
 "metadata": {
  "language_info": {
   "codemirror_mode": {
    "name": "ipython",
    "version": 3
   },
   "file_extension": ".py",
   "mimetype": "text/x-python",
   "name": "python",
   "nbconvert_exporter": "python",
   "pygments_lexer": "ipython3"
  }
 },
 "nbformat": 4,
 "nbformat_minor": 2
}
