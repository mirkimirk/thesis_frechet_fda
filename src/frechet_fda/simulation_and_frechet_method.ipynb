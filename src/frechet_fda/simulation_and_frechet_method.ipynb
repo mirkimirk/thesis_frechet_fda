{
 "cells": [
  {
   "cell_type": "code",
   "execution_count": 1,
   "metadata": {},
   "outputs": [],
   "source": [
    "import matplotlib.pyplot as plt\n",
    "import numpy as np\n",
    "\n",
    "from frechet_fda.data_generation_tools import (\n",
    "    gen_params_scenario_one,\n",
    "    gen_truncnorm_pdf_points,\n",
    "    make_estimated_truncnorm_pdf,\n",
    "    make_truncnorm_pdf,\n",
    ")\n",
    "from frechet_fda.function_tools import (\n",
    "    frechet_mean,\n",
    "    get_optimal_range,\n",
    "    inverse_log_qd_transform,\n",
    "    log_qd_transform,\n",
    "    make_function_objects,\n",
    "    mean_func,\n",
    ")\n",
    "from frechet_fda.fda_tools import (\n",
    "    compute_centered_data,\n",
    "    compute_cov_function,\n",
    "    compute_principal_components,\n",
    "    gen_qdtransformation_pcs,\n",
    "    k_optimal,\n",
    "    karhunen_loeve,\n",
    "    mode_of_variation,\n",
    "    total_frechet_variance,\n",
    ")"
   ]
  },
  {
   "cell_type": "code",
   "execution_count": null,
   "metadata": {},
   "outputs": [],
   "source": []
  }
 ],
 "metadata": {
  "kernelspec": {
   "display_name": "frechet_fda",
   "language": "python",
   "name": "python3"
  },
  "language_info": {
   "codemirror_mode": {
    "name": "ipython",
    "version": 3
   },
   "file_extension": ".py",
   "mimetype": "text/x-python",
   "name": "python",
   "nbconvert_exporter": "python",
   "pygments_lexer": "ipython3",
   "version": "3.11.5"
  },
  "orig_nbformat": 4
 },
 "nbformat": 4,
 "nbformat_minor": 2
}
