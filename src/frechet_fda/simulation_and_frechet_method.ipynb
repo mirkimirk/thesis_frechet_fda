{
 "cells": [
  {
   "cell_type": "code",
   "execution_count": null,
   "metadata": {},
   "outputs": [],
   "source": [
    "\"\"\"This module implements the Fréchet regression method from Petersen and Müller 2019.\n",
    "\n",
    "The method is implemented in the context of estimation in the space of distribution\n",
    "functions. Also, a simulation study is designed to compare with the methods outlined in\n",
    "Petersen and Müller 2016.\n",
    "\n",
    "\"\"\""
   ]
  }
 ],
 "metadata": {
  "kernelspec": {
   "display_name": "frechet_fda",
   "language": "python",
   "name": "python3"
  },
  "language_info": {
   "codemirror_mode": {
    "name": "ipython",
    "version": 3
   },
   "file_extension": ".py",
   "mimetype": "text/x-python",
   "name": "python",
   "nbconvert_exporter": "python",
   "pygments_lexer": "ipython3",
   "version": "3.11.5"
  }
 },
 "nbformat": 4,
 "nbformat_minor": 2
}
