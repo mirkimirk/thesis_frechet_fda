{
 "cells": [
  {
   "cell_type": "code",
   "execution_count": 2,
   "metadata": {},
   "outputs": [
    {
     "ename": "ModuleNotFoundError",
     "evalue": "No module named 'frechet_fda'",
     "output_type": "error",
     "traceback": [
      "\u001b[1;31m---------------------------------------------------------------------------\u001b[0m",
      "\u001b[1;31mModuleNotFoundError\u001b[0m                       Traceback (most recent call last)",
      "\u001b[1;32mc:\\Coding\\frechet_fda\\src\\frechet_fda\\fpca_comparison.ipynb Cell 1\u001b[0m line \u001b[0;36m4\n\u001b[0;32m      <a href='vscode-notebook-cell:/c%3A/Coding/frechet_fda/src/frechet_fda/fpca_comparison.ipynb#W0sZmlsZQ%3D%3D?line=0'>1</a>\u001b[0m \u001b[39mimport\u001b[39;00m \u001b[39mmatplotlib\u001b[39;00m\u001b[39m.\u001b[39;00m\u001b[39mpyplot\u001b[39;00m \u001b[39mas\u001b[39;00m \u001b[39mplt\u001b[39;00m\n\u001b[0;32m      <a href='vscode-notebook-cell:/c%3A/Coding/frechet_fda/src/frechet_fda/fpca_comparison.ipynb#W0sZmlsZQ%3D%3D?line=1'>2</a>\u001b[0m \u001b[39mimport\u001b[39;00m \u001b[39mnumpy\u001b[39;00m \u001b[39mas\u001b[39;00m \u001b[39mnp\u001b[39;00m\n\u001b[1;32m----> <a href='vscode-notebook-cell:/c%3A/Coding/frechet_fda/src/frechet_fda/fpca_comparison.ipynb#W0sZmlsZQ%3D%3D?line=3'>4</a>\u001b[0m \u001b[39mfrom\u001b[39;00m \u001b[39mfrechet_fda\u001b[39;00m\u001b[39m.\u001b[39;00m\u001b[39mdata_generation_tools\u001b[39;00m \u001b[39mimport\u001b[39;00m (\n\u001b[0;32m      <a href='vscode-notebook-cell:/c%3A/Coding/frechet_fda/src/frechet_fda/fpca_comparison.ipynb#W0sZmlsZQ%3D%3D?line=4'>5</a>\u001b[0m     gen_params_scenario_one,\n\u001b[0;32m      <a href='vscode-notebook-cell:/c%3A/Coding/frechet_fda/src/frechet_fda/fpca_comparison.ipynb#W0sZmlsZQ%3D%3D?line=5'>6</a>\u001b[0m     gen_truncnorm_pdf_points,\n\u001b[0;32m      <a href='vscode-notebook-cell:/c%3A/Coding/frechet_fda/src/frechet_fda/fpca_comparison.ipynb#W0sZmlsZQ%3D%3D?line=6'>7</a>\u001b[0m     make_estimated_truncnorm_pdf,\n\u001b[0;32m      <a href='vscode-notebook-cell:/c%3A/Coding/frechet_fda/src/frechet_fda/fpca_comparison.ipynb#W0sZmlsZQ%3D%3D?line=7'>8</a>\u001b[0m     make_truncnorm_pdf,\n\u001b[0;32m      <a href='vscode-notebook-cell:/c%3A/Coding/frechet_fda/src/frechet_fda/fpca_comparison.ipynb#W0sZmlsZQ%3D%3D?line=8'>9</a>\u001b[0m )\n\u001b[0;32m     <a href='vscode-notebook-cell:/c%3A/Coding/frechet_fda/src/frechet_fda/fpca_comparison.ipynb#W0sZmlsZQ%3D%3D?line=9'>10</a>\u001b[0m \u001b[39mfrom\u001b[39;00m \u001b[39mfrechet_fda\u001b[39;00m\u001b[39m.\u001b[39;00m\u001b[39mfunction_tools\u001b[39;00m \u001b[39mimport\u001b[39;00m (\n\u001b[0;32m     <a href='vscode-notebook-cell:/c%3A/Coding/frechet_fda/src/frechet_fda/fpca_comparison.ipynb#W0sZmlsZQ%3D%3D?line=10'>11</a>\u001b[0m     frechet_mean,\n\u001b[0;32m     <a href='vscode-notebook-cell:/c%3A/Coding/frechet_fda/src/frechet_fda/fpca_comparison.ipynb#W0sZmlsZQ%3D%3D?line=11'>12</a>\u001b[0m     get_optimal_range,\n\u001b[1;32m   (...)\u001b[0m\n\u001b[0;32m     <a href='vscode-notebook-cell:/c%3A/Coding/frechet_fda/src/frechet_fda/fpca_comparison.ipynb#W0sZmlsZQ%3D%3D?line=15'>16</a>\u001b[0m     mean_func,\n\u001b[0;32m     <a href='vscode-notebook-cell:/c%3A/Coding/frechet_fda/src/frechet_fda/fpca_comparison.ipynb#W0sZmlsZQ%3D%3D?line=16'>17</a>\u001b[0m )\n\u001b[0;32m     <a href='vscode-notebook-cell:/c%3A/Coding/frechet_fda/src/frechet_fda/fpca_comparison.ipynb#W0sZmlsZQ%3D%3D?line=17'>18</a>\u001b[0m \u001b[39mfrom\u001b[39;00m \u001b[39mfrechet_fda\u001b[39;00m\u001b[39m.\u001b[39;00m\u001b[39mfda_tools\u001b[39;00m \u001b[39mimport\u001b[39;00m (\n\u001b[0;32m     <a href='vscode-notebook-cell:/c%3A/Coding/frechet_fda/src/frechet_fda/fpca_comparison.ipynb#W0sZmlsZQ%3D%3D?line=18'>19</a>\u001b[0m     compute_centered_data,\n\u001b[0;32m     <a href='vscode-notebook-cell:/c%3A/Coding/frechet_fda/src/frechet_fda/fpca_comparison.ipynb#W0sZmlsZQ%3D%3D?line=19'>20</a>\u001b[0m     compute_cov_function,\n\u001b[1;32m   (...)\u001b[0m\n\u001b[0;32m     <a href='vscode-notebook-cell:/c%3A/Coding/frechet_fda/src/frechet_fda/fpca_comparison.ipynb#W0sZmlsZQ%3D%3D?line=25'>26</a>\u001b[0m     total_frechet_variance,\n\u001b[0;32m     <a href='vscode-notebook-cell:/c%3A/Coding/frechet_fda/src/frechet_fda/fpca_comparison.ipynb#W0sZmlsZQ%3D%3D?line=26'>27</a>\u001b[0m )\n",
      "\u001b[1;31mModuleNotFoundError\u001b[0m: No module named 'frechet_fda'"
     ]
    }
   ],
   "source": [
    "import matplotlib.pyplot as plt\n",
    "import numpy as np\n",
    "\n",
    "from frechet_fda.data_generation_tools import (\n",
    "    gen_params_scenario_one,\n",
    "    gen_truncnorm_pdf_points,\n",
    "    make_estimated_truncnorm_pdf,\n",
    "    make_truncnorm_pdf,\n",
    ")\n",
    "from frechet_fda.function_tools import (\n",
    "    frechet_mean,\n",
    "    get_optimal_range,\n",
    "    inverse_log_qd_transform,\n",
    "    log_qd_transform,\n",
    "    make_function_objects,\n",
    "    mean_func,\n",
    ")\n",
    "from frechet_fda.fda_tools import (\n",
    "    compute_centered_data,\n",
    "    compute_cov_function,\n",
    "    compute_principal_components,\n",
    "    gen_qdtransformation_pcs,\n",
    "    k_optimal,\n",
    "    karhunen_loeve,\n",
    "    mode_of_variation,\n",
    "    total_frechet_variance,\n",
    ")"
   ]
  },
  {
   "cell_type": "code",
   "execution_count": null,
   "metadata": {},
   "outputs": [],
   "source": [
    "# Set parameters\n",
    "n = 200\n",
    "grid_size = 1000\n",
    "trunc = 3\n",
    "mus, sigmas = gen_params_scenario_one(n)\n",
    "# Sort sigmas just for inspection reasons\n",
    "sigmas.sort()"
   ]
  },
  {
   "cell_type": "code",
   "execution_count": null,
   "metadata": {},
   "outputs": [
    {
     "name": "stderr",
     "output_type": "stream",
     "text": [
      "C:\\Coding\\frechet_fda\\src\\frechet_fda\\numerics_tools.py:62: RuntimeWarning: divide by zero encountered in divide\n",
      "  d_y[:-1] = np.diff(y_vals) / np.diff(d_x)\n"
     ]
    }
   ],
   "source": [
    "# Generate pdfs within truncation points\n",
    "pdfs = make_truncnorm_pdf(\n",
    "    -trunc, trunc, mus, sigmas, grid_size=grid_size, warn_irregular_densities=False,\n",
    ")\n",
    "# Make lists of Function class objects\n",
    "my_pdfs = make_function_objects(pdfs)\n",
    "my_cdfs = [pdf.integrate() for pdf in my_pdfs]\n",
    "my_qfs = [cdf.invert() for cdf in my_cdfs]\n",
    "my_qdfs = [qf.differentiate() for qf in my_qfs]\n",
    "# For numerical correction: shorten the range for smaller sigmas to get rid of\n",
    "# numerical artifacts when computing integrals, derivatives and means later\n",
    "new_ranges = get_optimal_range(my_pdfs)\n",
    "# Generate pdfs again, this time within individual ranges\n",
    "pdfs2 = [\n",
    "    make_truncnorm_pdf(\n",
    "        new_ranges[i][0],\n",
    "        new_ranges[i][1],\n",
    "        mus[i],\n",
    "        sigmas[i],\n",
    "        grid_size=grid_size,\n",
    "        warn_irregular_densities=False,\n",
    "    )[0]\n",
    "    for i in range(n)\n",
    "]"
   ]
  },
  {
   "cell_type": "code",
   "execution_count": null,
   "metadata": {},
   "outputs": [],
   "source": [
    "# Generate all the distribution objects\n",
    "new_pdfs = make_function_objects(pdfs2)\n",
    "new_cdfs = [pdf.integrate() for pdf in new_pdfs]\n",
    "new_qfs = [cdf.invert() for cdf in new_cdfs]\n",
    "new_qdfs = [qf.differentiate() for qf in new_qfs]"
   ]
  },
  {
   "cell_type": "code",
   "execution_count": null,
   "metadata": {},
   "outputs": [],
   "source": []
  }
 ],
 "metadata": {
  "kernelspec": {
   "display_name": "base",
   "language": "python",
   "name": "python3"
  },
  "language_info": {
   "codemirror_mode": {
    "name": "ipython",
    "version": 3
   },
   "file_extension": ".py",
   "mimetype": "text/x-python",
   "name": "python",
   "nbconvert_exporter": "python",
   "pygments_lexer": "ipython3",
   "version": "3.11.5"
  },
  "orig_nbformat": 4
 },
 "nbformat": 4,
 "nbformat_minor": 2
}
