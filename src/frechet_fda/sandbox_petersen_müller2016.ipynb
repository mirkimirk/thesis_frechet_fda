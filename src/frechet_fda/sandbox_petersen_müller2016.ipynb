{
 "cells": [
  {
   "cell_type": "code",
   "execution_count": 1,
   "metadata": {},
   "outputs": [],
   "source": [
    "\"\"\"Sandbox module.\"\"\"\n",
    "\n",
    "import numpy as np\n",
    "from data_generation import (\n",
    "    gen_discretized_distributions,\n",
    "    gen_grids_and_parameters,\n",
    ")\n",
    "\n",
    "from misc import (\n",
    "    riemann_sum_arrays,\n",
    "    trunc_norm_pdf,\n",
    "    cdf_from_density,\n",
    "    quantile_from_density,\n",
    ")\n",
    "\n",
    "%matplotlib inline"
   ]
  },
  {
   "cell_type": "code",
   "execution_count": 2,
   "metadata": {},
   "outputs": [],
   "source": [
    "import warnings\n",
    "warnings.filterwarnings(\"always\")\n",
    "from scipy.integrate import quad\n",
    "from scipy.interpolate import interp1d, UnivariateSpline, CubicSpline"
   ]
  },
  {
   "cell_type": "code",
   "execution_count": 3,
   "metadata": {},
   "outputs": [],
   "source": [
    "import matplotlib.pyplot as plt"
   ]
  },
  {
   "cell_type": "code",
   "execution_count": 4,
   "metadata": {},
   "outputs": [],
   "source": [
    "# Set up data\n",
    "n = 200\n",
    "gridnum = 1000\n",
    "truncation_point = 3\n",
    "\n",
    "grid_pdfs, grid_qfs, mus, sigmas = gen_grids_and_parameters(\n",
    "    n, gridnum, truncation_point, delta=0,\n",
    ")"
   ]
  },
  {
   "cell_type": "code",
   "execution_count": 5,
   "metadata": {},
   "outputs": [],
   "source": [
    "def smooth_boundary_1d(arr, dsup):\n",
    "    boundary_indices = [0, 1, -2, -1]  # Example: first and last two points\n",
    "    boundary_points = dsup[boundary_indices]\n",
    "    boundary_values = arr[boundary_indices]\n",
    "    \n",
    "    spline = UnivariateSpline(boundary_points, boundary_values, s=0.001)  # Adjust s as needed\n",
    "    arr[boundary_indices] = spline(boundary_points)\n",
    "    return arr"
   ]
  },
  {
   "cell_type": "code",
   "execution_count": 6,
   "metadata": {},
   "outputs": [],
   "source": [
    "def midpoint_riemann_sum_arrays(support_grid, array, axis=-1, cumsum=False):\n",
    "    \"\"\"Computes the Riemann sum using the Midpoint rule for the given array, along\n",
    "    the axis that contains the grid of values.\"\"\"\n",
    "    \n",
    "    # Calculate the step size between consecutive grid points\n",
    "    step_sizes = np.diff(support_grid)\n",
    "    \n",
    "    # Calculate midpoints\n",
    "    midpoints = (support_grid[..., 1:] + support_grid[..., :-1]) / 2\n",
    "    \n",
    "    # Sample the function at the midpoints\n",
    "    midpoint_values = np.array(step_sizes.shape)\n",
    "    for i in range(len(midpoint_values)):\n",
    "        midpoint_values[i] = np.interp(midpoints[i], support_grid, array[i])\n",
    "    \n",
    "    # Compute the cumulative sum along the specified axis (i.e.,\n",
    "    # the integral up to each grid point)\n",
    "    if cumsum:\n",
    "        result = np.cumsum(midpoint_values * step_sizes, axis=axis)\n",
    "    # Or just the integral\n",
    "    else:\n",
    "        result = np.sum(midpoint_values * step_sizes, axis=axis)\n",
    "\n",
    "    return result\n"
   ]
  },
  {
   "cell_type": "code",
   "execution_count": 7,
   "metadata": {},
   "outputs": [],
   "source": [
    "def dens_from_qd(qds_discretized, qdsup=None, dsup=None):\n",
    "    \"\"\"Compute density from a quantile density function.\n",
    "\n",
    "    'Inspired' from qd2dens in fdadensity package in R.\n",
    "\n",
    "    \"\"\"\n",
    "    # Validate input\n",
    "    eps = 1e-3\n",
    "    boundaries = [np.min(qdsup), np.max(qdsup)]\n",
    "    if not np.allclose(boundaries, [0, 1], atol=eps):\n",
    "        msg = f\"Please check the support of the QF domain's boundaries: {boundaries}\"\n",
    "        raise ValueError(msg)\n",
    "\n",
    "    integral_qd = riemann_sum_arrays(qdsup, array=qds_discretized, axis=-1, cumsum=True)\n",
    "    if not np.isclose(integral_qd[-1], np.ptp(dsup), atol=eps):\n",
    "        msg = (\n",
    "            \"Quantile Density does not integrate to the range of the densities with \"\n",
    "            f\"tolerance {eps}.\"\n",
    "            f\"\\n Integral is: {integral_qd[...,-1]}\"\n",
    "            f\"\\n Range is: {np.ptp(dsup)}\"\n",
    "        )\n",
    "        raise ValueError(msg)\n",
    "\n",
    "    # Calculate new support grid\n",
    "    dsup_temp = dsup[0] + integral_qd\n",
    "\n",
    "    # Calculate density\n",
    "    dens_temp = 1 / qds_discretized\n",
    "    idx_unique = np.unique(dsup_temp, return_index=True, axis=-1)[1]\n",
    "    dsup_temp = dsup_temp[..., idx_unique] \n",
    "    dens_temp = dens_temp[..., idx_unique]\n",
    "    dens = np.interp(dsup, dsup_temp, dens_temp)\n",
    "\n",
    "    # Normalize the density\n",
    "    dens /= riemann_sum_arrays(dsup, dens, axis=-1, cumsum=False)[..., np.newaxis]\n",
    "\n",
    "    return dens"
   ]
  },
  {
   "cell_type": "code",
   "execution_count": 55,
   "metadata": {},
   "outputs": [],
   "source": [
    "def qd_from_dens(dens, dsup=None, qdsup=None):\n",
    "    \"\"\"Compute quantile densities directly from densities.\n",
    "\n",
    "    'Inspired' from dens2qd in fdadensity package in R.\n",
    "\n",
    "    \"\"\"\n",
    "    # Validate input\n",
    "    eps = 1e-3\n",
    "    boundaries = [np.min(qdsup), np.max(qdsup)]\n",
    "    if not np.allclose(boundaries, [0, 1], atol=eps):\n",
    "        msg = f\"Please check the support of the QF domain's boundaries: {boundaries}\"\n",
    "        raise ValueError(msg)\n",
    "\n",
    "    integral_dens = riemann_sum_arrays(dsup, array=dens, axis=-1, cumsum=True)\n",
    "    deviations_from_1 = abs(integral_dens[...,-1] - 1)\n",
    "    if np.any(deviations_from_1 > eps):\n",
    "        warnings.warn(\n",
    "            f\"Not all provided densities integrate to 1 with tolerance {eps}!\"\n",
    "            f\"\\n Max case of deviation is: {deviations_from_1.max()}\"\n",
    "            f\"\\n In position: {deviations_from_1.argmax()} \"\n",
    "            \"\\n Performing normalization...\",\n",
    "        )\n",
    "        dens /= integral_dens[...,-1][..., np.newaxis]\n",
    "\n",
    "    spline = CubicSpline(dsup, dens, bc_type=\"natural\", axis=-1)\n",
    "    qdsup_temp = riemann_sum_arrays(dsup, array=spline(dsup), axis=-1, cumsum=True)\n",
    "    # qdsup_temp = integral_dens\n",
    "    \n",
    "    qd_temp = 1 / dens\n",
    "    ind = np.unique(qdsup_temp, return_index=True, axis=-1)[1]\n",
    "    print(ind.shape)\n",
    "    qdsup_temp = qdsup_temp[..., ind]\n",
    "    qd_temp = qd_temp[..., ind]\n",
    "    print(qdsup_temp[0])\n",
    "\n",
    "    # qd = CubicSpline(qdsup_temp, qd_temp, bc_type=\"natural\", axis=-1)(qdsup)\n",
    "    if dens.ndim > 1:\n",
    "        qd = np.zeros(dens.shape)\n",
    "        for i in range(len(dens)):\n",
    "            qd[i] = CubicSpline(qdsup_temp[i], qd_temp[i], bc_type=\"natural\", axis=-1)(qdsup)\n",
    "    else:\n",
    "        qd = CubicSpline(qdsup_temp, qd_temp, bc_type=\"natural\", axis=-1)(qdsup)\n",
    "\n",
    "    integral_qd = riemann_sum_arrays(qdsup, qd, axis=-1, cumsum=False)\n",
    "    # integral_qd = np.trapz(qd, qdsup) / 2\n",
    "    qd *= np.ptp(dsup) / integral_qd[..., np.newaxis]\n",
    "\n",
    "    return qd"
   ]
  },
  {
   "cell_type": "code",
   "execution_count": 69,
   "metadata": {},
   "outputs": [
    {
     "data": {
      "text/plain": [
       "(array([[1, 0, 0],\n",
       "        [2, 3, 4]]),\n",
       " array([0, 2], dtype=int64))"
      ]
     },
     "execution_count": 69,
     "metadata": {},
     "output_type": "execute_result"
    }
   ],
   "source": [
    "a = np.array([\n",
    "    [1, 0, 0],\n",
    "    [1, 0, 0],\n",
    "    [2, 3, 4]\n",
    "])\n",
    "np.unique(a, axis=0, return_index=True)"
   ]
  },
  {
   "cell_type": "code",
   "execution_count": 56,
   "metadata": {},
   "outputs": [],
   "source": [
    "def gen_discretized_distributions(grid_pdfs, grid_qfs, mus, sigmas, truncation_point):\n",
    "    \"\"\"Generate discretized pdfs, cdfs, qfs, and qdfs.\"\"\"\n",
    "    # Truncated pdfs\n",
    "    pdfs_discretized = trunc_norm_pdf(\n",
    "        grid_pdfs[:, np.newaxis],\n",
    "        mus,\n",
    "        sigmas,\n",
    "        -truncation_point,\n",
    "        truncation_point,\n",
    "    )\n",
    "\n",
    "    # Truncated cdfs\n",
    "    cdfs_discretized = cdf_from_density(\n",
    "        grid_pdfs,\n",
    "        pdfs_discretized,\n",
    "        axis=-1,\n",
    "    )\n",
    "\n",
    "    # Truncated qfs\n",
    "    qfs_discretized = quantile_from_density(\n",
    "        pdfs_discretized,\n",
    "        grid_pdfs,\n",
    "        grid_qfs,\n",
    "    )\n",
    "\n",
    "    # Truncated qdfs\n",
    "    qdfs_discretized = qd_from_dens(\n",
    "        pdfs_discretized, dsup=grid_pdfs, qdsup=grid_qfs,\n",
    "    )\n",
    "\n",
    "    return pdfs_discretized, cdfs_discretized, qfs_discretized, qdfs_discretized\n"
   ]
  },
  {
   "cell_type": "code",
   "execution_count": 57,
   "metadata": {},
   "outputs": [
    {
     "name": "stderr",
     "output_type": "stream",
     "text": [
      "c:\\Coding\\frechet_fda\\src\\frechet_fda\\misc.py:71: UserWarning: Not all provided densities integrate to 1 with tolerance 1e-05!\n",
      " Max case of deviation is: 0.006087386759915159\n",
      " In position: 40\n",
      " Performing normalization...\n",
      "  warnings.warn(\n"
     ]
    },
    {
     "name": "stdout",
     "output_type": "stream",
     "text": [
      "(200,)\n",
      "[2.65092260e-06 1.15916534e-08 3.94226172e-10 2.74669101e-10\n",
      " 4.07251446e-07 7.24328919e-08 3.29639923e-10 3.19239796e-06\n",
      " 8.54338819e-10 1.88801666e-05 2.09484555e-11 1.93835509e-06\n",
      " 5.59032008e-10 8.99115270e-07 1.00917391e-09 4.27594979e-09\n",
      " 5.86867968e-06 1.56847563e-07 6.28031247e-08 3.11106987e-07\n",
      " 3.12673251e-05 1.78803831e-09 1.27510651e-11 1.95755306e-08\n",
      " 1.24993765e-08 2.49084892e-06 3.79164829e-08 1.25770266e-10\n",
      " 3.04646869e-08 1.99816990e-05 3.06558370e-11 1.41842825e-05\n",
      " 4.71186242e-08 5.20267594e-06 1.01468717e-10 8.34830298e-08\n",
      " 3.61054681e-06 6.23146601e-06 6.48275128e-07 5.39832021e-09\n",
      " 5.83352209e-12 2.79229881e-12 6.09123637e-10 1.81980940e-06\n",
      " 4.07715084e-08 7.92927240e-09 9.59425399e-07 3.56065805e-07\n",
      " 3.80831143e-07 9.23506850e-09 1.70607601e-10 8.39015613e-06\n",
      " 1.16457721e-06 1.10674801e-07 1.60323146e-06 2.06428278e-06\n",
      " 2.19802927e-06 9.96372798e-09 7.85590848e-10 4.35432484e-07\n",
      " 2.50344024e-10 2.27466005e-09 8.90004593e-06 2.09983277e-09\n",
      " 1.00097452e-05 5.44168979e-08 7.89238719e-07 4.65486454e-07\n",
      " 5.31696344e-07 2.79834753e-05 1.09191204e-06 1.03168050e-07\n",
      " 1.50443682e-06 1.46331207e-07 1.24187310e-06 1.92959416e-07\n",
      " 2.36638978e-05 5.57286020e-11 4.33731693e-06 2.46341799e-09\n",
      " 3.27754139e-08 2.95822789e-05 1.02361184e-06 3.89599799e-05\n",
      " 1.33891951e-05 1.27302792e-07 4.60922320e-06 4.86519998e-11\n",
      " 1.52084026e-09 7.90818107e-06 2.44395875e-08 1.06128401e-05\n",
      " 3.00110958e-06 1.09619020e-09 6.74520425e-08 2.37030133e-07\n",
      " 2.66718174e-09 2.71644510e-07 9.14529386e-12 6.92331665e-07\n",
      " 2.11440418e-05 1.81733490e-08 3.30429622e-05 3.83878503e-06\n",
      " 1.36497183e-07 5.84647608e-08 1.12504282e-05 8.08698901e-11\n",
      " 6.80294575e-09 1.29201661e-09 1.70823207e-06 5.06407302e-08\n",
      " 2.10822045e-08 2.07235506e-10 3.95466041e-09 1.34757463e-08\n",
      " 1.19028497e-09 3.60635050e-10 2.53768860e-07 3.68844195e-05\n",
      " 1.32408073e-06 1.66762636e-11 7.22058093e-10 1.18707903e-07\n",
      " 1.68476600e-05 2.83120065e-08 8.42457051e-07 7.45267049e-06\n",
      " 1.26366065e-05 1.80111834e-07 4.70057844e-10 3.01045060e-10\n",
      " 4.97532350e-07 6.63354976e-10 3.12443370e-09 8.55810324e-09\n",
      " 2.23703421e-05 7.34525343e-09 9.61543637e-08 4.08077998e-06\n",
      " 3.39532014e-06 1.56548247e-08 4.62236569e-09 1.41149726e-06\n",
      " 7.77684598e-08 1.88174487e-10 2.06689025e-07 3.38049627e-09\n",
      " 1.78364418e-05 4.38340485e-08 2.21358702e-07 8.96024764e-08\n",
      " 3.32855736e-07 3.52553666e-08 2.27008807e-08 1.40198613e-09\n",
      " 1.64927482e-09 5.12772003e-10 7.02224492e-06 2.82081886e-06\n",
      " 4.30624488e-10 4.89737027e-06 2.63069060e-08 6.29945647e-09\n",
      " 4.34468124e-05 7.39259981e-07 7.17831428e-11 1.19243668e-05\n",
      " 2.88710659e-09 1.93793575e-09 4.11456291e-05 2.34005572e-06\n",
      " 9.07430091e-11 3.65672605e-09 1.54420499e-10 4.99580922e-09\n",
      " 2.27914202e-10 3.61584911e-11 6.61559252e-06 1.39507358e-10\n",
      " 1.45257745e-08 1.13118645e-10 6.06921711e-07 6.34215653e-11\n",
      " 2.50281640e-05 1.50241248e-05 9.43937492e-06 4.21434898e-11\n",
      " 5.83208694e-09 3.49137401e-05 1.68091671e-07 2.90731041e-07\n",
      " 5.52610661e-06 2.64667598e-05 1.59110894e-05 1.68686362e-08\n",
      " 2.55975199e-11 5.68112202e-07 1.07478949e-08 9.28717378e-10]\n"
     ]
    },
    {
     "ename": "ValueError",
     "evalue": "`x` must be strictly increasing sequence.",
     "output_type": "error",
     "traceback": [
      "\u001b[1;31m---------------------------------------------------------------------------\u001b[0m",
      "\u001b[1;31mValueError\u001b[0m                                Traceback (most recent call last)",
      "Cell \u001b[1;32mIn[57], line 3\u001b[0m\n\u001b[0;32m      1\u001b[0m \u001b[39m# Generate distributions\u001b[39;00m\n\u001b[0;32m      2\u001b[0m pdfs_discretized, cdfs_discretized, qfs_discretized, qdfs_discretized \u001b[39m=\u001b[39m (\n\u001b[1;32m----> 3\u001b[0m     gen_discretized_distributions(grid_pdfs, grid_qfs, mus, sigmas, truncation_point)\n\u001b[0;32m      4\u001b[0m )\n",
      "Cell \u001b[1;32mIn[56], line 27\u001b[0m, in \u001b[0;36mgen_discretized_distributions\u001b[1;34m(grid_pdfs, grid_qfs, mus, sigmas, truncation_point)\u001b[0m\n\u001b[0;32m     20\u001b[0m qfs_discretized \u001b[39m=\u001b[39m quantile_from_density(\n\u001b[0;32m     21\u001b[0m     pdfs_discretized,\n\u001b[0;32m     22\u001b[0m     grid_pdfs,\n\u001b[0;32m     23\u001b[0m     grid_qfs,\n\u001b[0;32m     24\u001b[0m )\n\u001b[0;32m     26\u001b[0m \u001b[39m# Truncated qdfs\u001b[39;00m\n\u001b[1;32m---> 27\u001b[0m qdfs_discretized \u001b[39m=\u001b[39m qd_from_dens(\n\u001b[0;32m     28\u001b[0m     pdfs_discretized, dsup\u001b[39m=\u001b[39;49mgrid_pdfs, qdsup\u001b[39m=\u001b[39;49mgrid_qfs,\n\u001b[0;32m     29\u001b[0m )\n\u001b[0;32m     31\u001b[0m \u001b[39mreturn\u001b[39;00m pdfs_discretized, cdfs_discretized, qfs_discretized, qdfs_discretized\n",
      "Cell \u001b[1;32mIn[55], line 40\u001b[0m, in \u001b[0;36mqd_from_dens\u001b[1;34m(dens, dsup, qdsup)\u001b[0m\n\u001b[0;32m     38\u001b[0m     qd \u001b[39m=\u001b[39m np\u001b[39m.\u001b[39mzeros(dens\u001b[39m.\u001b[39mshape)\n\u001b[0;32m     39\u001b[0m     \u001b[39mfor\u001b[39;00m i \u001b[39min\u001b[39;00m \u001b[39mrange\u001b[39m(\u001b[39mlen\u001b[39m(dens)):\n\u001b[1;32m---> 40\u001b[0m         qd[i] \u001b[39m=\u001b[39m CubicSpline(qdsup_temp[i], qd_temp[i], bc_type\u001b[39m=\u001b[39;49m\u001b[39m\"\u001b[39;49m\u001b[39mnatural\u001b[39;49m\u001b[39m\"\u001b[39;49m, axis\u001b[39m=\u001b[39;49m\u001b[39m-\u001b[39;49m\u001b[39m1\u001b[39;49m)(qdsup)\n\u001b[0;32m     41\u001b[0m \u001b[39melse\u001b[39;00m:\n\u001b[0;32m     42\u001b[0m     qd \u001b[39m=\u001b[39m CubicSpline(qdsup_temp, qd_temp, bc_type\u001b[39m=\u001b[39m\u001b[39m\"\u001b[39m\u001b[39mnatural\u001b[39m\u001b[39m\"\u001b[39m, axis\u001b[39m=\u001b[39m\u001b[39m-\u001b[39m\u001b[39m1\u001b[39m)(qdsup)\n",
      "File \u001b[1;32mc:\\Anaconda3\\envs\\frechet_fda\\Lib\\site-packages\\scipy\\interpolate\\_cubic.py:635\u001b[0m, in \u001b[0;36mCubicSpline.__init__\u001b[1;34m(self, x, y, axis, bc_type, extrapolate)\u001b[0m\n\u001b[0;32m    634\u001b[0m \u001b[39mdef\u001b[39;00m \u001b[39m__init__\u001b[39m(\u001b[39mself\u001b[39m, x, y, axis\u001b[39m=\u001b[39m\u001b[39m0\u001b[39m, bc_type\u001b[39m=\u001b[39m\u001b[39m'\u001b[39m\u001b[39mnot-a-knot\u001b[39m\u001b[39m'\u001b[39m, extrapolate\u001b[39m=\u001b[39m\u001b[39mNone\u001b[39;00m):\n\u001b[1;32m--> 635\u001b[0m     x, dx, y, axis, _ \u001b[39m=\u001b[39m prepare_input(x, y, axis)\n\u001b[0;32m    636\u001b[0m     n \u001b[39m=\u001b[39m \u001b[39mlen\u001b[39m(x)\n\u001b[0;32m    638\u001b[0m     bc, y \u001b[39m=\u001b[39m \u001b[39mself\u001b[39m\u001b[39m.\u001b[39m_validate_bc(bc_type, y, y\u001b[39m.\u001b[39mshape[\u001b[39m1\u001b[39m:], axis)\n",
      "File \u001b[1;32mc:\\Anaconda3\\envs\\frechet_fda\\Lib\\site-packages\\scipy\\interpolate\\_cubic.py:61\u001b[0m, in \u001b[0;36mprepare_input\u001b[1;34m(x, y, axis, dydx)\u001b[0m\n\u001b[0;32m     59\u001b[0m dx \u001b[39m=\u001b[39m np\u001b[39m.\u001b[39mdiff(x)\n\u001b[0;32m     60\u001b[0m \u001b[39mif\u001b[39;00m np\u001b[39m.\u001b[39many(dx \u001b[39m<\u001b[39m\u001b[39m=\u001b[39m \u001b[39m0\u001b[39m):\n\u001b[1;32m---> 61\u001b[0m     \u001b[39mraise\u001b[39;00m \u001b[39mValueError\u001b[39;00m(\u001b[39m\"\u001b[39m\u001b[39m`x` must be strictly increasing sequence.\u001b[39m\u001b[39m\"\u001b[39m)\n\u001b[0;32m     63\u001b[0m y \u001b[39m=\u001b[39m np\u001b[39m.\u001b[39mmoveaxis(y, axis, \u001b[39m0\u001b[39m)\n\u001b[0;32m     64\u001b[0m \u001b[39mif\u001b[39;00m dydx \u001b[39mis\u001b[39;00m \u001b[39mnot\u001b[39;00m \u001b[39mNone\u001b[39;00m:\n",
      "\u001b[1;31mValueError\u001b[0m: `x` must be strictly increasing sequence."
     ]
    }
   ],
   "source": [
    "# Generate distributions\n",
    "pdfs_discretized, cdfs_discretized, qfs_discretized, qdfs_discretized = (\n",
    "    gen_discretized_distributions(grid_pdfs, grid_qfs, mus, sigmas, truncation_point)\n",
    ")"
   ]
  },
  {
   "cell_type": "code",
   "execution_count": null,
   "metadata": {},
   "outputs": [
    {
     "data": {
      "image/png": "[encoded data removed]",
      "text/plain": [
       "<Figure size 640x480 with 1 Axes>"
      ]
     },
     "metadata": {},
     "output_type": "display_data"
    }
   ],
   "source": [
    "fig, ax = plt.subplots()\n",
    "ax.plot(grid_pdfs, CubicSpline(grid_pdfs, pdfs_discretized, axis=-1)(grid_pdfs)[0], label=\"Spline\")\n",
    "ax.plot(grid_pdfs, pdfs_discretized[0], label=\"Pdf\")\n",
    "plt.legend()\n",
    "plt.show()"
   ]
  },
  {
   "cell_type": "code",
   "execution_count": 19,
   "metadata": {},
   "outputs": [
    {
     "data": {
      "text/plain": [
       "array([0.45911424, 0.45864972, 0.90992458, 0.3375287 , 1.31826074,\n",
       "       0.26744027, 4.07101118, 0.39391739, 3.16604967, 3.5862195 ])"
      ]
     },
     "execution_count": 19,
     "metadata": {},
     "output_type": "execute_result"
    }
   ],
   "source": [
    "dens_to_look_at = 0\n",
    "a = qd_from_dens(pdfs_discretized[dens_to_look_at], grid_pdfs, grid_qfs)\n",
    "b = dens_from_qd(a, grid_qfs, grid_pdfs)\n",
    "sigmas[:10]"
   ]
  },
  {
   "cell_type": "code",
   "execution_count": 20,
   "metadata": {},
   "outputs": [
    {
     "data": {
      "image/png": "[encoded data removed]",
      "text/plain": [
       "<Figure size 640x480 with 1 Axes>"
      ]
     },
     "metadata": {},
     "output_type": "display_data"
    }
   ],
   "source": [
    "fig, ax = plt.subplots()\n",
    "ax.plot(grid_qfs, a, label=\"qdf\")\n",
    "plt.legend()\n",
    "plt.show()"
   ]
  },
  {
   "cell_type": "code",
   "execution_count": 21,
   "metadata": {},
   "outputs": [
    {
     "data": {
      "image/png": "[encoded data removed]",
      "text/plain": [
       "<Figure size 640x480 with 1 Axes>"
      ]
     },
     "metadata": {},
     "output_type": "display_data"
    }
   ],
   "source": [
    "fig, ax = plt.subplots()\n",
    "ax.plot(grid_pdfs, pdfs_discretized[dens_to_look_at], label=\"pdf\")\n",
    "ax.plot(grid_pdfs, b + 0.001, label=\"doubletransformed pdf\")\n",
    "plt.legend()\n",
    "plt.show()"
   ]
  },
  {
   "cell_type": "code",
   "execution_count": 22,
   "metadata": {},
   "outputs": [
    {
     "data": {
      "text/plain": [
       "(1.6035764993606226e-06, 0.8689204433808188)"
      ]
     },
     "execution_count": 22,
     "metadata": {},
     "output_type": "execute_result"
    }
   ],
   "source": [
    "qdfs_discretized[0][499], pdfs_discretized[0][499]"
   ]
  },
  {
   "cell_type": "code",
   "execution_count": 23,
   "metadata": {},
   "outputs": [
    {
     "data": {
      "text/plain": [
       "array([-13.48379423, -13.48352711, -13.48377806, -13.48376727,\n",
       "       -13.48354436, -13.48367151, -13.48378731, -13.4836369 ,\n",
       "       -13.48369148, -13.48364458, -13.4836482 , -13.48374957,\n",
       "       -13.48357528, -13.48368616, -13.48374455, -13.48369559,\n",
       "       -13.48371943, -13.48377009, -13.48364643, -13.48361364,\n",
       "       -13.48376753, -13.48362089, -13.48374895, -13.48362285,\n",
       "       -13.48372133, -13.48368603, -13.48363173, -13.48367066,\n",
       "       -13.48376383, -13.4837286 , -13.48367746, -13.48365499,\n",
       "       -13.48364828, -13.48364868, -13.48365108, -13.48365315,\n",
       "       -13.48365481, -13.4836577 , -13.48366477, -13.48367992,\n",
       "       -13.48370769, -13.48375306, -13.48376896, -13.48371017,\n",
       "       -13.48367585, -13.48367265, -13.4837068 , -13.48378405,\n",
       "       -13.48371533, -13.48367739, -13.48369679, -13.48377821,\n",
       "       -13.4837105 , -13.48368203, -13.48373028, -13.48374333,\n",
       "       -13.48368629, -13.4837201 , -13.48375116, -13.48368948,\n",
       "       -13.48373118, -13.4837343 , -13.48369318, -13.48376579,\n",
       "       -13.4837084 , -13.48371208, -13.48375777, -13.48369747,\n",
       "       -13.48376778, -13.48370796, -13.48372886, -13.48373269,\n",
       "       -13.48371045, -13.48376344, -13.48370477, -13.48379419,\n",
       "       -13.48370608, -13.48377195, -13.48371032, -13.48375894,\n",
       "       -13.48371484, -13.48375255, -13.48371813, -13.48375111,\n",
       "       -13.48371959, -13.48375382, -13.48371939, -13.48376053,\n",
       "       -13.48371826, -13.48377163, -13.48371734, -13.48378792,\n",
       "       -13.48371814, -13.48377905, -13.48372233, -13.48375798,\n",
       "       -13.48373175, -13.48374021, -13.48374829, -13.4837281 ,\n",
       "       -13.48377385, -13.48372395, -13.48377934, -13.48372998,\n",
       "       -13.48374946, -13.48374826, -13.48373177, -13.48378073,\n",
       "       -13.48372846, -13.48376586, -13.48374151, -13.48373889,\n",
       "       -13.48377268, -13.48373092, -13.48376975, -13.48374362,\n",
       "       -13.48374016, -13.48377843, -13.48373406, -13.48376216,\n",
       "       -13.48375271, -13.48373764, -13.48379131, -13.48374062,\n",
       "       -13.48374932, -13.4837719 , -13.48373763, -13.48376521,\n",
       "       -13.48375677, -13.48374021, -13.48378233, -13.48374854,\n",
       "       -13.48374569, -13.48379026, -13.48374477, -13.48375213,\n",
       "       -13.48377936, -13.48374369, -13.48375816, -13.48377274,\n",
       "       -13.48374405, -13.48376293, -13.48376922, -13.48374503,\n",
       "       -13.48376599, -13.48376804, -13.4837462 , -13.48376721,\n",
       "       -13.48376874, -13.48374739, -13.48376671, -13.48377111,\n",
       "       -13.48374867, -13.48376483, -13.48377516, -13.48375028,\n",
       "       -13.48376203, -13.48378105, -13.48375259, -13.4837589 ,\n",
       "       -13.48378903, -13.48375605, -13.48375609, -13.48378914,\n",
       "       -13.48376119, -13.48375427, -13.48377869, -13.48376854,\n",
       "       -13.48375414, -13.48376949, -13.48377865, -13.48375639,\n",
       "       -13.48376236, -13.48379206, -13.48376167, -13.48375807,\n",
       "       -13.48378126, -13.48377059, -13.48375733, -13.4837695 ,\n",
       "       -13.4837837 , -13.48376079, -13.48376202, -13.48378737,\n",
       "       -13.48376903, -13.48375945, -13.48377277, -13.48378255,\n",
       "       -13.48376237, -13.48376393, -13.48378721, -13.48377125,\n",
       "       -13.48376137, -13.48377211, -13.48378647, -13.48376553,\n",
       "       -13.48376414, -13.48378232, -13.48377672, -13.48376368,\n",
       "       -13.4837692 , -13.48379327, -13.48377098, -13.48376438,\n",
       "       -13.48377538, -13.48378619, -13.48376805, -13.4837666 ,\n",
       "       -13.48378183, -13.48378028, -13.483767  , -13.48376954,\n",
       "       -13.48378791, -13.48377659, -13.48376712, -13.48377265,\n",
       "       -13.48379318, -13.48377446, -13.48376788, -13.48377552,\n",
       "       -13.48379139, -13.48377342, -13.48376893, -13.48377791,\n",
       "       -13.48378899, -13.48377313, -13.48377002, -13.48377969,\n",
       "       -13.48378773, -13.48377333, -13.48377102, -13.4837808 ,\n",
       "       -13.48378738, -13.4837739 , -13.48377187, -13.48378128,\n",
       "       -13.48378779, -13.48377476, -13.48377256, -13.48378121,\n",
       "       -13.48378885, -13.48377588, -13.48377317, -13.48378071,\n",
       "       -13.48379053, -13.48377729, -13.48377376, -13.48377992,\n",
       "       -13.4837928 , -13.48377903, -13.48377444, -13.48377901,\n",
       "       -13.48379276, -13.48378117, -13.48377532, -13.48377814,\n",
       "       -13.48378964, -13.48378377, -13.48377653, -13.48377748,\n",
       "       -13.48378663, -13.48378692, -13.48377819, -13.48377719,\n",
       "       -13.48378392, -13.48379069, -13.48378039, -13.48377739,\n",
       "       -13.4837817 , -13.48379332, -13.48378323, -13.48377823,\n",
       "       -13.48378013, -13.48378891, -13.48378681, -13.48377982,\n",
       "       -13.48377932, -13.48378533, -13.48379117, -13.48378223,\n",
       "       -13.48377941, -13.48378272, -13.48379215, -13.48378553,\n",
       "       -13.48378047, -13.48378118, -13.48378765, -13.48378976,\n",
       "       -13.48378256, -13.48378078, -13.48378442, -13.4837935 ,\n",
       "       -13.48378571, -13.48378156, -13.48378253, -13.48378859,\n",
       "       -13.48378992, -13.48378356, -13.483782  , -13.48378523,\n",
       "       -13.48379325, -13.48378676, -13.48378283, -13.4837834 ,\n",
       "       -13.48378848, -13.48379113, -13.483785  , -13.4837831 ,\n",
       "       -13.48378542, -13.48379197, -13.48378846, -13.48378428,\n",
       "       -13.48378405, -13.48378778, -13.48379314, -13.48378685,\n",
       "       -13.48378428, -13.48378541, -13.48379024, -13.48379075,\n",
       "       -13.48378603, -13.48378478, -13.48378699, -13.48379267,\n",
       "       -13.48378918, -13.48378576, -13.48378558, -13.48378864,\n",
       "       -13.4837936 , -13.48378824, -13.48378589, -13.48378655,\n",
       "       -13.48379024, -13.48379204, -13.48378775, -13.48378626,\n",
       "       -13.48378759, -13.48379172, -13.48379099, -13.48378758,\n",
       "       -13.48378679, -13.4837886 , -13.48379304, -13.48379033,\n",
       "       -13.48378764, -13.48378738, -13.48378955, -13.48379415,\n",
       "       -13.48378996, -13.48378785, -13.483788  , -13.4837904 ,\n",
       "       -13.48379351, -13.48378979, -13.48378816, -13.48378861,\n",
       "       -13.48379114, -13.48379298, -13.48378979, -13.48378852,\n",
       "       -13.48378917, -13.48379175, -13.48379265, -13.48378989,\n",
       "       -13.4837889 , -13.48378968, -13.48379223, -13.48379247,\n",
       "       -13.48379006, -13.48378928, -13.48379013, -13.48379261,\n",
       "       -13.48379241, -13.48379029, -13.48378966, -13.48379052,\n",
       "       -13.48379288, -13.48379244, -13.48379055, -13.48379002,\n",
       "       -13.48379086, -13.48379307, -13.48379253, -13.48379083,\n",
       "       -13.48379037, -13.48379116, -13.48379319, -13.48379266,\n",
       "       -13.48379111, -13.4837907 , -13.48379141, -13.48379325,\n",
       "       -13.48379283, -13.48379141, -13.48379101, -13.48379163,\n",
       "       -13.48379328, -13.48379301, -13.4837917 , -13.48379131,\n",
       "       -13.48379183, -13.48379328, -13.48379321, -13.48379199,\n",
       "       -13.48379159, -13.48379202, -13.48379327, -13.48379341,\n",
       "       -13.48379227, -13.48379186, -13.48379219, -13.48379325,\n",
       "       -13.48379361, -13.48379254, -13.48379212, -13.48379236,\n",
       "       -13.48379325, -13.4837938 , -13.4837928 , -13.48379237,\n",
       "       -13.48379252, -13.48379325, -13.48379398, -13.48379305,\n",
       "       -13.48379262, -13.48379269, -13.48379327, -13.48379414,\n",
       "       -13.48379328, -13.48379285, -13.48379286, -13.4837933 ,\n",
       "       -13.48379418, -13.48379349, -13.48379307, -13.48379302,\n",
       "       -13.48379335, -13.48379405, -13.48379367, -13.48379327,\n",
       "       -13.48379319, -13.48379342, -13.48379397, -13.48379384,\n",
       "       -13.48379346, -13.48379335, -13.4837935 , -13.48379392,\n",
       "       -13.48379398, -13.48379363, -13.4837935 , -13.48379359,\n",
       "       -13.4837939 , -13.4837941 , -13.48379378, -13.48379365,\n",
       "       -13.48379369, -13.4837939 , -13.48379419, -13.48379391,\n",
       "       -13.48379378, -13.48379378, -13.48379393, -13.48379421,\n",
       "       -13.48379402, -13.4837939 , -13.48379388, -13.48379397,\n",
       "       -13.48379417, -13.4837941 , -13.483794  , -13.48379397,\n",
       "       -13.48379402, -13.48379415, -13.48379416, -13.48379408,\n",
       "       -13.48379405, -13.48379407, -13.48379415, -13.4837942 ,\n",
       "       -13.48379414, -13.48379412, -13.48379412, -13.48379417,\n",
       "       -13.48379423, -13.48379419, -13.48379417, -13.48379417,\n",
       "       -13.48379419, -13.48379423, -13.48379422, -13.4837942 ,\n",
       "       -13.4837942 , -13.48379421, -13.48379423, -13.48379423,\n",
       "       -13.48379423, -13.48379422, -13.48379423, -13.48379423,\n",
       "       -13.48379423, -13.48379423, -13.48379423, -13.48379423,\n",
       "       -13.48379423, -13.48379423, -13.48379423, -13.48379423,\n",
       "       -13.48379423, -13.48379423, -13.48379423, -13.48379421,\n",
       "       -13.4837942 , -13.4837942 , -13.48379421, -13.48379423,\n",
       "       -13.4837942 , -13.48379417, -13.48379417, -13.48379418,\n",
       "       -13.48379422, -13.48379418, -13.48379413, -13.48379412,\n",
       "       -13.48379413, -13.48379419, -13.48379417, -13.48379409,\n",
       "       -13.48379405, -13.48379407, -13.48379414, -13.48379418,\n",
       "       -13.48379404, -13.48379397, -13.48379399, -13.48379408,\n",
       "       -13.48379422, -13.483794  , -13.48379389, -13.48379388,\n",
       "       -13.48379399, -13.4837942 , -13.48379397, -13.4837938 ,\n",
       "       -13.48379377, -13.48379388, -13.48379413, -13.48379396,\n",
       "       -13.48379371, -13.48379364, -13.48379375, -13.48379403,\n",
       "       -13.48379397, -13.48379363, -13.4837935 , -13.48379359,\n",
       "       -13.48379391, -13.48379401, -13.48379355, -13.48379335,\n",
       "       -13.48379343, -13.48379376, -13.48379408, -13.48379348,\n",
       "       -13.4837932 , -13.48379324, -13.4837936 , -13.48379419,\n",
       "       -13.48379343, -13.48379305, -13.48379304, -13.48379341,\n",
       "       -13.48379415, -13.48379339, -13.48379289, -13.48379282,\n",
       "       -13.4837932 , -13.48379401, -13.48379337, -13.48379273,\n",
       "       -13.4837926 , -13.48379297, -13.48379385, -13.48379336,\n",
       "       -13.48379257, -13.48379236, -13.48379273, -13.48379368,\n",
       "       -13.48379336, -13.48379241, -13.48379212, -13.48379248,\n",
       "       -13.4837935 , -13.48379337, -13.48379224, -13.48379186,\n",
       "       -13.48379222, -13.48379331, -13.48379337, -13.48379207,\n",
       "       -13.48379159, -13.48379195, -13.48379313, -13.48379337,\n",
       "       -13.48379187, -13.48379131, -13.48379167, -13.48379296,\n",
       "       -13.48379334, -13.48379166, -13.48379101, -13.48379139,\n",
       "       -13.4837928 , -13.48379328, -13.48379142, -13.4837907 ,\n",
       "       -13.48379112, -13.48379267, -13.48379316, -13.48379114,\n",
       "       -13.48379037, -13.48379085, -13.48379258, -13.48379299,\n",
       "       -13.48379082, -13.48379002, -13.4837906 , -13.48379255,\n",
       "       -13.48379273, -13.48379044, -13.48378966, -13.48379038,\n",
       "       -13.4837926 , -13.48379238, -13.48379001, -13.48378929,\n",
       "       -13.4837902 , -13.48379276, -13.48379192, -13.48378953,\n",
       "       -13.48378892, -13.4837901 , -13.48379307, -13.48379135,\n",
       "       -13.48378899, -13.48378857, -13.4837901 , -13.48379356,\n",
       "       -13.48379066, -13.48378841, -13.48378827, -13.48379024,\n",
       "       -13.48379416, -13.48378985, -13.48378782, -13.48378806,\n",
       "       -13.48379058, -13.48379311, -13.48378895, -13.48378724,\n",
       "       -13.48378799, -13.48379119, -13.48379187, -13.48378798,\n",
       "       -13.48378674, -13.48378813, -13.48379217, -13.48379047,\n",
       "       -13.483787  , -13.48378637, -13.48378858, -13.48379364,\n",
       "       -13.48378895, -13.48378607, -13.48378624, -13.48378947,\n",
       "       -13.48379275, -13.48378739, -13.48378529, -13.48378648,\n",
       "       -13.48379094, -13.48379046, -13.48378588, -13.48378481,\n",
       "       -13.48378725, -13.48379319, -13.48378811, -13.48378458,\n",
       "       -13.48378479, -13.48378876, -13.48379208, -13.48378587,\n",
       "       -13.48378367, -13.48378547, -13.48379129, -13.48378876,\n",
       "       -13.48378394, -13.48378339, -13.48378713, -13.4837933 ,\n",
       "       -13.48378566, -13.48378259, -13.48378408, -13.48379013,\n",
       "       -13.48378886, -13.48378308, -13.48378216, -13.48378611,\n",
       "       -13.48379353, -13.48378487, -13.48378139, -13.48378309,\n",
       "       -13.48378997, -13.48378794, -13.48378176, -13.48378109,\n",
       "       -13.48378592, -13.48379224, -13.48378322, -13.48378006,\n",
       "       -13.48378275, -13.4837913 , -13.48378571, -13.48377997,\n",
       "       -13.48378044, -13.48378713, -13.48378913, -13.48378072,\n",
       "       -13.48377891, -13.4837837 , -13.48379336, -13.48378222,\n",
       "       -13.48377809, -13.48378096, -13.48379083, -13.48378434,\n",
       "       -13.48377787, -13.48377883, -13.48378722, -13.48378693,\n",
       "       -13.48377815, -13.48377723, -13.48378419, -13.48378982,\n",
       "       -13.48377877, -13.48377606, -13.48378168, -13.48379282,\n",
       "       -13.48377959, -13.48377519, -13.48377961, -13.48379286,\n",
       "       -13.48378046, -13.48377452, -13.48377792, -13.48379066,\n",
       "       -13.4837812 , -13.48377394, -13.48377655, -13.48378905,\n",
       "       -13.48378168, -13.48377335, -13.48377546, -13.48378802,\n",
       "       -13.48378174, -13.48377266, -13.48377462, -13.48378763,\n",
       "       -13.48378127, -13.48377183, -13.48377406, -13.48378796,\n",
       "       -13.48378019, -13.48377085, -13.48377385, -13.48378917,\n",
       "       -13.48377846, -13.48376978, -13.48377412, -13.48379148,\n",
       "       -13.48377614, -13.48376876, -13.48377512, -13.48379321,\n",
       "       -13.48377335, -13.483768  , -13.48377716, -13.48378811,\n",
       "       -13.48377033, -13.48376787, -13.48378073, -13.48378222,\n",
       "       -13.48376747, -13.48376887, -13.48378644, -13.48377597,\n",
       "       -13.48376531, -13.4837717 , -13.4837933 , -13.48376996,\n",
       "       -13.48376461, -13.48377725, -13.48378268, -13.48376505,\n",
       "       -13.48376639, -13.4837867 , -13.48377276, -13.48376234,\n",
       "       -13.48377193, -13.48378742, -13.48376481, -13.4837633 ,\n",
       "       -13.48378289, -13.48377339, -13.48376045, -13.48376976,\n",
       "       -13.48378756, -13.48376293, -13.48376174, -13.483784  ,\n",
       "       -13.48377019, -13.48375836, -13.48377125, -13.48378162,\n",
       "       -13.48375907, -13.48376257, -13.48379212, -13.48376323,\n",
       "       -13.48375742, -13.48377908, -13.48377015, -13.48375522,\n",
       "       -13.48376923, -13.4837791 , -13.48375533, -13.48376206,\n",
       "       -13.48378927, -13.48375709, -13.48375705, -13.48378916,\n",
       "       -13.48375982, -13.48375366, -13.48378139, -13.48376285,\n",
       "       -13.4837514 , -13.48377565, -13.48376557, -13.48374981,\n",
       "       -13.48377169, -13.4837674 , -13.48374855, -13.48376937,\n",
       "       -13.48376787, -13.48374738, -13.48376868, -13.48376668,\n",
       "       -13.48374622, -13.48376983, -13.48376368, -13.48374525,\n",
       "       -13.48377325, -13.48375901, -13.48374489, -13.48377971,\n",
       "       -13.48375311, -13.48374593, -13.48379035, -13.48374681,\n",
       "       -13.4837496 , -13.4837826 , -13.48374144, -13.48375763,\n",
       "       -13.48376586, -13.4837389 , -13.48377241, -13.48375033,\n",
       "       -13.48374182, -13.48379138, -13.48373889, -13.48375363,\n",
       "       -13.48376287, -13.48373538, -13.48377878, -13.48374133,\n",
       "       -13.48374472, -13.48377027, -13.48373228, -13.48377315,\n",
       "       -13.48374007, -13.48374263, -13.48376645, -13.48372984,\n",
       "       -13.48378101, -13.48373307, -13.48374921, -13.48375038,\n",
       "       -13.4837313 , -13.48377964, -13.48372538, -13.48377427,\n",
       "       -13.48372943, -13.48374922, -13.48374129, -13.48373299,\n",
       "       -13.4837587 , -13.48372374, -13.48377935, -13.48371962,\n",
       "       -13.48378804, -13.48371883, -13.48377207, -13.48371971,\n",
       "       -13.48376117, -13.48372081, -13.48375458, -13.48372099,\n",
       "       -13.48375192, -13.48371954, -13.48375333, -13.4837163 ,\n",
       "       -13.48375959, -13.48371185, -13.48377235, -13.48370767,\n",
       "       -13.4837942 , -13.48370637, -13.48376398, -13.48371194,\n",
       "       -13.48373377, -13.48373001, -13.48370946, -13.48376824,\n",
       "       -13.48369914, -13.48375839, -13.48371349, -13.48370986,\n",
       "       -13.48376628, -13.48369488, -13.48373531, -13.48373223,\n",
       "       -13.48369122, -13.48375187, -13.48372132, -13.48368805,\n",
       "       -13.48374415, -13.48373131, -13.48368383, -13.48371183,\n",
       "       -13.48377846, -13.48369833, -13.48367922, -13.48371656,\n",
       "       -13.4837842 , -13.48370815, -13.48367452, -13.48367765,\n",
       "       -13.48371144, -13.48376934, -13.48375368, -13.48370898,\n",
       "       -13.48368161, -13.48366667, -13.48365969, -13.48365683,\n",
       "       -13.48365517, -13.48365311, -13.48365074, -13.48365032,\n",
       "       -13.48365693, -13.48367908, -13.4837295 , -13.48376424,\n",
       "       -13.48367233, -13.4836339 , -13.48368747, -13.48372228,\n",
       "       -13.48362509, -13.48374953, -13.4836231 , -13.48376787,\n",
       "       -13.48361591, -13.48364826, -13.48377038, -13.48372034,\n",
       "       -13.48369677, -13.48374514, -13.48368742, -13.4835778 ,\n",
       "       -13.48375008, -13.48364984, -13.48364623, -13.48369259,\n",
       "       -13.48363857, -13.48378738, -13.48367275, -13.48354681,\n",
       "       -13.48376752, -13.48377821, -13.48352936, -13.48379423])"
      ]
     },
     "execution_count": 23,
     "metadata": {},
     "output_type": "execute_result"
    }
   ],
   "source": [
    "(np.log(qdfs_discretized[0]) + np.log(np.interp(qfs_discretized[0], grid_pdfs, pdfs_discretized[0])))"
   ]
  },
  {
   "cell_type": "code",
   "execution_count": 24,
   "metadata": {},
   "outputs": [
    {
     "data": {
      "text/plain": [
       "1.0"
      ]
     },
     "execution_count": 24,
     "metadata": {},
     "output_type": "execute_result"
    }
   ],
   "source": [
    "riemann_sum_arrays(grid_pdfs, pdfs_discretized[0])"
   ]
  },
  {
   "cell_type": "code",
   "execution_count": 25,
   "metadata": {},
   "outputs": [
    {
     "ename": "SyntaxError",
     "evalue": "incomplete input (1199505599.py, line 14)",
     "output_type": "error",
     "traceback": [
      "\u001b[1;36m  Cell \u001b[1;32mIn[25], line 14\u001b[1;36m\u001b[0m\n\u001b[1;33m    def inverse_transformation():\u001b[0m\n\u001b[1;37m                                 ^\u001b[0m\n\u001b[1;31mSyntaxError\u001b[0m\u001b[1;31m:\u001b[0m incomplete input\n"
     ]
    }
   ],
   "source": [
    "def log_qd_transformation(qd, lqdsup, lqdsup):\n",
    "    \"\"\"Log quantile density transformation\"\"\"\n",
    "    eps = 1e-4\n",
    "    integral_qd = riemann_sum_arrays(qdsup, array=qd, axis=-1, cumsum=False)\n",
    "    if not np.isclose(integral_qd[-1], np.ptp(dsup), atol=eps):\n",
    "        msg = (\"Quantile Density does not integrate to the range of the densities with \"\n",
    "        f\"tolerance {eps}.\"\n",
    "        f\"\\n Integral is: {integral_qd[...,-1]}\"\n",
    "        f\"\\n Range is: {np.ptp(dsup)}\")\n",
    "        raise ValueError(msg)\n",
    "    return np.log(qd)\n",
    "\n",
    "\n",
    "def inverse_transformation():"
   ]
  },
  {
   "cell_type": "code",
   "execution_count": null,
   "metadata": {},
   "outputs": [],
   "source": []
  }
 ],
 "metadata": {
  "kernelspec": {
   "display_name": "frechet_fda",
   "language": "python",
   "name": "python3"
  },
  "language_info": {
   "codemirror_mode": {
    "name": "ipython",
    "version": 3
   },
   "file_extension": ".py",
   "mimetype": "text/x-python",
   "name": "python",
   "nbconvert_exporter": "python",
   "pygments_lexer": "ipython3",
   "version": "3.11.4"
  }
 },
 "nbformat": 4,
 "nbformat_minor": 2
}
