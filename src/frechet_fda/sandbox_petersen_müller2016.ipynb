{
 "cells": [
  {
   "cell_type": "code",
   "execution_count": 7,
   "metadata": {},
   "outputs": [],
   "source": [
    "\"\"\"Sandbox module.\"\"\"\n",
    "import matplotlib.pyplot as plt\n",
    "import numpy as np\n",
    "\n",
    "from fda_funcs import (\n",
    "    compute_moments,\n",
    "    compute_principal_components,\n",
    "    compute_fpc_scores,\n",
    "    mode_of_variation\n",
    ")\n",
    "from misc import (\n",
    "    cdf_from_density,\n",
    "    density_from_qd,\n",
    "    l2_norm,\n",
    "    norm_pdf,\n",
    "    norm_cdf,\n",
    "    quantile_from_cdf,\n",
    "    riemann_sum_arrays,\n",
    "    trunc_norm_pdf,\n",
    ")\n",
    "\n",
    "from data_generation import(\n",
    "    gen_grids_and_parameters,\n",
    "    gen_discretized_distributions\n",
    ")\n",
    "\n",
    "%matplotlib inline"
   ]
  },
  {
   "cell_type": "code",
   "execution_count": 8,
   "metadata": {},
   "outputs": [],
   "source": [
    "# Set up data\n",
    "n = 200\n",
    "gridnum = 1000\n",
    "truncation_point = 3\n",
    "\n",
    "grid_pdfs, grid_qfs, mus, sigmas = gen_grids_and_parameters(\n",
    "    n, gridnum, truncation_point\n",
    ")"
   ]
  },
  {
   "cell_type": "code",
   "execution_count": 9,
   "metadata": {},
   "outputs": [],
   "source": [
    "# Generate distributions\n",
    "pdfs_discretized, cdfs_discretized, qfs_discretized, qdfs_discretized = (\n",
    "    gen_discretized_distributions(grid_pdfs, grid_qfs, mus, sigmas, truncation_point)\n",
    ")"
   ]
  },
  {
   "cell_type": "code",
   "execution_count": null,
   "metadata": {},
   "outputs": [],
   "source": []
  }
 ],
 "metadata": {
  "kernelspec": {
   "display_name": "frechet_fda",
   "language": "python",
   "name": "python3"
  },
  "language_info": {
   "codemirror_mode": {
    "name": "ipython",
    "version": 3
   },
   "file_extension": ".py",
   "mimetype": "text/x-python",
   "name": "python",
   "nbconvert_exporter": "python",
   "pygments_lexer": "ipython3",
   "version": "3.11.4"
  },
  "orig_nbformat": 4
 },
 "nbformat": 4,
 "nbformat_minor": 2
}
