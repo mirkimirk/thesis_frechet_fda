{
 "cells": [
  {
   "cell_type": "code",
   "execution_count": null,
   "metadata": {},
   "outputs": [],
   "source": [
    "\"\"\"Sandbox module.\"\"\"\n",
    "\n",
    "import numpy as np\n",
    "from data_generation import (\n",
    "    gen_discretized_distributions,\n",
    "    gen_grids_and_parameters,\n",
    ")\n",
    "\n",
    "%matplotlib inline"
   ]
  },
  {
   "cell_type": "code",
   "execution_count": null,
   "metadata": {},
   "outputs": [],
   "source": [
    "# Set up data\n",
    "n = 200\n",
    "gridnum = 1000\n",
    "truncation_point = 3\n",
    "\n",
    "grid_pdfs, grid_qfs, mus, sigmas = gen_grids_and_parameters(\n",
    "    n, gridnum, truncation_point, delta=0,\n",
    ")"
   ]
  },
  {
   "cell_type": "code",
   "execution_count": null,
   "metadata": {},
   "outputs": [],
   "source": [
    "# Generate distributions\n",
    "pdfs_discretized, cdfs_discretized, qfs_discretized, qdfs_discretized = (\n",
    "    gen_discretized_distributions(grid_pdfs, grid_qfs, mus, sigmas, truncation_point)\n",
    ")"
   ]
  },
  {
   "cell_type": "code",
   "execution_count": null,
   "metadata": {},
   "outputs": [],
   "source": [
    "np.log(qdfs_discretized[0]) - -np.log(pdfs_discretized[0])"
   ]
  },
  {
   "cell_type": "code",
   "execution_count": null,
   "metadata": {},
   "outputs": [],
   "source": [
    "def log_qd_transformation(qd, lqdsup, lqdsup):\n",
    "    \"\"\"Log quantile density transformation\"\"\"\n",
    "    eps = 1e-4\n",
    "    integral_qd = riemann_sum_arrays(qdsup, array=qd, axis=-1, cumsum=False)\n",
    "    if not np.isclose(integral_qd[-1], np.ptp(dsup), atol=eps):\n",
    "        msg = ()\"Quantile Density does not integrate to the range of the densities with \"\n",
    "        f\"tolerance {eps}.\"\n",
    "        f\"\\n Integral is: {integral_qd[...,-1]}\"\n",
    "        f\"\\n Range is: {np.ptp(dsup)}\")\n",
    "        raise ValueError(msg)\n",
    "    return np.log(qd)\n",
    "\n",
    "\n",
    "def inverse_transformation():"
   ]
  }
 ],
 "metadata": {
  "language_info": {
   "codemirror_mode": {
    "name": "ipython",
    "version": 3
   },
   "file_extension": ".py",
   "mimetype": "text/x-python",
   "name": "python",
   "nbconvert_exporter": "python",
   "pygments_lexer": "ipython3"
  }
 },
 "nbformat": 4,
 "nbformat_minor": 2
}
