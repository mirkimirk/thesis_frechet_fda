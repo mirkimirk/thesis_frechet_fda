{
 "cells": [
  {
   "cell_type": "code",
   "execution_count": null,
   "metadata": {},
   "outputs": [],
   "source": [
    "\"\"\"Sandbox module.\"\"\"\n",
    "import warnings\n",
    "\n",
    "import matplotlib.pyplot as plt\n",
    "import numpy as np\n",
    "from fda_funcs import (\n",
    "    compute_fpc_scores,\n",
    "    compute_moments,\n",
    "    compute_principal_components,\n",
    "    mode_of_variation,\n",
    ")\n",
    "from misc import (\n",
    "    cdf_from_density,\n",
    "    norm_pdf,\n",
    "    quantile_from_cdf,\n",
    "    riemann_sum_arrays,\n",
    "    trunc_norm_pdf,\n",
    ")\n",
    "from scipy.stats import norm, truncnorm\n",
    "\n",
    "%matplotlib inline"
   ]
  },
  {
   "cell_type": "code",
   "execution_count": null,
   "metadata": {},
   "outputs": [],
   "source": [
    "# Make the warning always appear\n",
    "warnings.filterwarnings(\"always\")"
   ]
  },
  {
   "cell_type": "markdown",
   "metadata": {},
   "source": [
    "$\\int_0^1 f(t)dt$  wird dann durch die Riemann Summe $1/m \\sum_{j=1}^m f(s_j)$ ersetzt ($s_j$  - Gridpunkte, $m$ -  Anzahl der Gridpunkte)."
   ]
  },
  {
   "cell_type": "markdown",
   "metadata": {},
   "source": [
    "# Functional Data Analysis\n",
    "\n",
    "Ideas for simulation\n",
    "- Uni- vs. Multivariate case\n",
    "- Simulate different normal distributions\n",
    "- Vary parameters of (generalized) Beta distribution, so principal components can be interpreted as varying parameters"
   ]
  },
  {
   "cell_type": "markdown",
   "metadata": {},
   "source": [
    "$X(t) = \\sum_{k=1}^n η_k φ_k(t)$\n"
   ]
  },
  {
   "cell_type": "markdown",
   "metadata": {},
   "source": [
    "## Transformation Method Paper (Petersen & Müller 2016)"
   ]
  },
  {
   "cell_type": "code",
   "execution_count": null,
   "metadata": {},
   "outputs": [],
   "source": [
    "# 1. Generate synthetic functional data\n",
    "n = 200\n",
    "gridnum = 1000\n",
    "truncation_point = 3\n",
    "delta=0\n",
    "\n",
    "grid_densities = np.linspace(\n",
    "    start=-truncation_point,\n",
    "    stop=truncation_point,\n",
    "    num=gridnum,\n",
    ")\n",
    "grid_quantiles = np.linspace(start=delta, stop=1-delta, num=gridnum)\n",
    "range_support = grid_densities[-1] - grid_densities[0]\n",
    "\n",
    "# Draw different sigmas\n",
    "log_sigmas = np.random.default_rng(seed=28071995).uniform(-1.5, 1.5, n)\n",
    "mus = np.zeros(n)\n",
    "sigmas = np.exp(log_sigmas)"
   ]
  },
  {
   "cell_type": "code",
   "execution_count": null,
   "metadata": {},
   "outputs": [],
   "source": [
    "# Calculate discretized distributions, with different methods, to compare performance\n",
    "\n",
    "# Calculate densities\n",
    "a, b = (-truncation_point - mus) / sigmas, (truncation_point - mus) / sigmas\n",
    "densities_discretized = norm_pdf(grid_densities[:,np.newaxis], mus, sigmas).transpose()\n",
    "densities_discretized2 = truncnorm.pdf(\n",
    "    x=grid_densities[:, np.newaxis],\n",
    "    a=a,\n",
    "    b=b,\n",
    "    loc=mus,\n",
    "    scale=sigmas,\n",
    ").transpose()\n",
    "densities_discretized3 = trunc_norm_pdf(\n",
    "    grid_densities[:, np.newaxis],\n",
    "    mus,\n",
    "    sigmas,\n",
    "    -truncation_point,\n",
    "    truncation_point,\n",
    ").transpose()\n",
    "\n",
    "# Calculate distribution functions\n",
    "cdfs_discretized = cdf_from_density(\n",
    "    grid_densities,\n",
    "    densities_discretized,\n",
    "    axis=1,\n",
    ")\n",
    "cdfs_discretized2 = cdf_from_density(\n",
    "    grid_densities,\n",
    "    densities_discretized2,\n",
    "    axis=1,\n",
    ")\n",
    "cdfs_discretized3 = cdf_from_density(\n",
    "    grid_densities,\n",
    "    densities_discretized3,\n",
    "    axis=1,\n",
    ")\n",
    "\n",
    "# Calculate quantiles\n",
    "quantiles_discretized = norm.ppf(grid_quantiles[:, np.newaxis], mus, sigmas).transpose()\n",
    "quantiles_discretized2 = truncnorm.ppf(\n",
    "    q=grid_quantiles[:, np.newaxis],\n",
    "    a=a,\n",
    "    b=b,\n",
    "    loc=mus,\n",
    "    scale=sigmas,\n",
    ").transpose()\n",
    "quantiles_discretized3 = quantile_from_cdf(\n",
    "    grid_densities[:, np.newaxis].transpose(),\n",
    "    cdfs_discretized3,\n",
    "    grid_quantiles,\n",
    ")\n",
    "\n",
    "# Calculate quantile densities\n",
    "quantile_densities_discretized = np.reciprocal(\n",
    "    norm_pdf(quantiles_discretized.transpose(), mus, sigmas),\n",
    ").transpose()\n",
    "quantile_densities_discretized2 = np.reciprocal(\n",
    "    truncnorm.pdf(quantiles_discretized2.transpose(), a=a, b=b, loc=mus, scale=sigmas),\n",
    ").transpose()\n",
    "quantile_densities_discretized3 = np.reciprocal(\n",
    "    trunc_norm_pdf(\n",
    "        quantiles_discretized3.transpose(),\n",
    "        mus,\n",
    "        sigmas,\n",
    "        -truncation_point,\n",
    "        truncation_point,\n",
    "    ),\n",
    ").transpose()\n",
    "\n",
    "# Normalize quantile densities\n",
    "quantile_densities_discretized = (\n",
    "    quantile_densities_discretized\n",
    "    * range_support\n",
    "    / riemann_sum_arrays(grid_quantiles, quantile_densities_discretized, axis = 1)[:, np.newaxis]\n",
    ")\n",
    "\n",
    "quantile_densities_discretized2 = (\n",
    "    quantile_densities_discretized2\n",
    "    * range_support\n",
    "    / riemann_sum_arrays(grid_quantiles, quantile_densities_discretized2, axis = 1)[:, np.newaxis]\n",
    ")\n",
    "\n",
    "quantile_densities_discretized3 = (\n",
    "    quantile_densities_discretized3\n",
    "    * range_support\n",
    "    / riemann_sum_arrays(grid_quantiles, quantile_densities_discretized3, axis = 1)[:, np.newaxis]\n",
    ")"
   ]
  },
  {
   "cell_type": "code",
   "execution_count": null,
   "metadata": {},
   "outputs": [],
   "source": [
    "grid_densities[0] + riemann_sum_arrays(grid_quantiles, quantile_densities_discretized3[0], axis = 0,cumsum = True)[0]"
   ]
  },
  {
   "cell_type": "code",
   "execution_count": null,
   "metadata": {},
   "outputs": [],
   "source": [
    "### Check whether my function differs from scipy func on first generated density sample\n",
    "eps = 1e-3\n",
    "(\n",
    "    (abs(densities_discretized[0] - densities_discretized2[0]) > eps).sum(),\n",
    "    (abs(cdfs_discretized[0] - cdfs_discretized2[0]) > eps).sum(),\n",
    "    (abs(quantiles_discretized[0] - quantiles_discretized2[0]) > eps).sum(),\n",
    "    (\n",
    "        abs(quantile_densities_discretized[0] - quantile_densities_discretized2[0])\n",
    "        > eps\n",
    "    ).sum(),\n",
    "    (abs(densities_discretized2[0] - densities_discretized3[0]) > eps).sum(),\n",
    "    (abs(cdfs_discretized2[0] - cdfs_discretized3[0]) > eps).sum(),\n",
    "    (abs(quantiles_discretized2[0] - quantiles_discretized3[0]) > eps).sum(),\n",
    "    (\n",
    "        abs(quantile_densities_discretized2[0] - quantile_densities_discretized3[0])\n",
    "        > eps\n",
    "    ).sum(),\n",
    ")"
   ]
  },
  {
   "cell_type": "markdown",
   "metadata": {},
   "source": [
    "### Check how fast the different implementations are.\n",
    "\n",
    "1. My normal distribution functions\n",
    "2. Scipy's Truncated normals\n",
    "3. My truncated normals\n",
    "\n",
    "(For quantiles always used scipy's implementation of ppf.)"
   ]
  },
  {
   "cell_type": "code",
   "execution_count": null,
   "metadata": {},
   "outputs": [],
   "source": [
    "%%timeit\n",
    "densities_discretized = norm_pdf(grid_densities[:,np.newaxis], mus, sigmas).transpose()\n",
    "quantiles_discretized = norm.ppf(grid_quantiles[:,np.newaxis], mus, sigmas).transpose()\n",
    "quantile_densities_discretized = np.reciprocal(\n",
    "    norm_pdf(quantiles_discretized.transpose(), mus, sigmas),\n",
    ").transpose()"
   ]
  },
  {
   "cell_type": "code",
   "execution_count": null,
   "metadata": {},
   "outputs": [],
   "source": [
    "%%timeit\n",
    "densities_discretized2 = truncnorm.pdf(\n",
    "    x=grid_densities[:,np.newaxis],\n",
    "    a=a,\n",
    "    b=b,\n",
    "    loc=mus,\n",
    "    scale=sigmas,\n",
    ").transpose()\n",
    "quantiles_discretized2 = truncnorm.ppf(\n",
    "    q=grid_quantiles[:,np.newaxis],\n",
    "    a=a,\n",
    "    b=b,\n",
    "    loc=mus,\n",
    "    scale=sigmas,\n",
    ").transpose()\n",
    "quantile_densities_discretized2 = np.reciprocal(\n",
    "    truncnorm.pdf(quantiles_discretized2.transpose(), a=a, b=b, loc=mus, scale=sigmas),\n",
    ").transpose()"
   ]
  },
  {
   "cell_type": "code",
   "execution_count": null,
   "metadata": {},
   "outputs": [],
   "source": [
    "%%timeit\n",
    "densities_discretized3 = trunc_norm_pdf(grid_densities[:,np.newaxis], mus, sigmas, a, b).transpose()\n",
    "quantiles_discretized3 = quantile_from_cdf(\n",
    "    grid_densities[:,np.newaxis].transpose(),\n",
    "    cdfs_discretized,\n",
    "    grid_quantiles,\n",
    ")\n",
    "quantile_densities_discretized3 = np.reciprocal(\n",
    "    trunc_norm_pdf(\n",
    "        quantiles_discretized3.transpose(),\n",
    "        mus,\n",
    "        sigmas,\n",
    "        -truncation_point,\n",
    "        truncation_point,\n",
    "    ),\n",
    ").transpose()"
   ]
  },
  {
   "cell_type": "markdown",
   "metadata": {},
   "source": [
    "## 3rd approach faster than scipys\n",
    "Less accurate with quantiles though. Gets better with higher grid size, but wont do more\n",
    "than 1000 for computational cost"
   ]
  },
  {
   "cell_type": "markdown",
   "metadata": {},
   "source": [
    "### Use implementation 3, faster than scipy but still correct"
   ]
  },
  {
   "cell_type": "code",
   "execution_count": null,
   "metadata": {},
   "outputs": [],
   "source": [
    "ds_discretized = densities_discretized3\n",
    "cs_discretized = cdfs_discretized3\n",
    "qs_discretized = quantiles_discretized3\n",
    "qds_discretized = quantile_densities_discretized3"
   ]
  },
  {
   "cell_type": "markdown",
   "metadata": {},
   "source": [
    "## Compare my discretized cdf to analytical cdf from scipy, to see whether S shape is there"
   ]
  },
  {
   "cell_type": "code",
   "execution_count": null,
   "metadata": {},
   "outputs": [],
   "source": [
    "# Analytical CDF for standard normal distribution\n",
    "analytical_cdf = norm.cdf(grid_densities)\n",
    "\n",
    "# Plot\n",
    "plt.plot(grid_densities, analytical_cdf, label=\"Analytical CDF\")\n",
    "plt.plot(\n",
    "    grid_densities,\n",
    "    cs_discretized[14],\n",
    "    label=\"Computed CDF\",\n",
    ")  # Adjust index as needed\n",
    "plt.legend()\n",
    "plt.xlabel(\"Value\")\n",
    "plt.ylabel(\"Cumulative Probability\")\n",
    "plt.title(\"Comparison of Analytical and Computed CDFs\")\n",
    "plt.show()"
   ]
  },
  {
   "cell_type": "markdown",
   "metadata": {},
   "source": [
    "## Perform FPCA"
   ]
  },
  {
   "cell_type": "code",
   "execution_count": null,
   "metadata": {},
   "outputs": [],
   "source": [
    "# Compute moments to work with in FPCA\n",
    "mean_function, centered_densities, cov_matrix = compute_moments(ds_discretized)"
   ]
  },
  {
   "cell_type": "code",
   "execution_count": null,
   "metadata": {},
   "outputs": [],
   "source": [
    "# Compute the eigenfunctions (principal components) of the covariance matrix\n",
    "eigenvalues, eigenfunctions = compute_principal_components(cov_matrix, grid_densities)"
   ]
  },
  {
   "cell_type": "code",
   "execution_count": null,
   "metadata": {},
   "outputs": [],
   "source": [
    "# Compute FPC scores / factor loadings\n",
    "fpc_scores = compute_fpc_scores(centered_densities, eigenfunctions, grid_densities)"
   ]
  },
  {
   "cell_type": "code",
   "execution_count": null,
   "metadata": {},
   "outputs": [],
   "source": [
    "# Plot the mean function and the first two eigenfunctions\n",
    "fig, ax = plt.subplots()\n",
    "ax.plot(grid_densities, mean_function, label=\"Mean Function\")\n",
    "ax.plot(grid_densities, eigenfunctions[:, 0], label=\"First component\")\n",
    "ax.plot(grid_densities, eigenfunctions[:, 1], label=\"Second component\")\n",
    "plt.legend()\n",
    "plt.show()"
   ]
  },
  {
   "cell_type": "markdown",
   "metadata": {},
   "source": [
    "## More reproducing of Petersen & Müller (2016)"
   ]
  },
  {
   "cell_type": "code",
   "execution_count": null,
   "metadata": {},
   "outputs": [],
   "source": [
    "# Compute first two modes of variation\n",
    "first_two_modes = mode_of_variation(\n",
    "    mean_function,\n",
    "    eigenvalues[:2],\n",
    "    eigenfunctions[:, :2],\n",
    "    1,\n",
    ")"
   ]
  },
  {
   "cell_type": "code",
   "execution_count": null,
   "metadata": {},
   "outputs": [],
   "source": [
    "fig, ax = plt.subplots()\n",
    "ax.plot(grid_densities, mean_function, label=\"Mean function\")\n",
    "ax.plot(grid_densities, first_two_modes[:, 0], label=\"First mode\")\n",
    "ax.plot(grid_densities, first_two_modes[:, 1], label=\"Second mode\")\n",
    "plt.legend()\n",
    "plt.show()"
   ]
  },
  {
   "cell_type": "markdown",
   "metadata": {},
   "source": [
    "## Fréchet mean estimation\n",
    "\n",
    "\n",
    "Some errors in the code here, corrected in the debugging Jupyter Notebook. Will\n",
    "continue in Petersen_Müller2016 notebook."
   ]
  },
  {
   "cell_type": "code",
   "execution_count": null,
   "metadata": {},
   "outputs": [],
   "source": [
    "mean_qdf = np.mean(qds_discretized, axis=0)\n",
    "mean_qf = np.mean(qs_discretized, axis=0)"
   ]
  },
  {
   "cell_type": "code",
   "execution_count": null,
   "metadata": {},
   "outputs": [],
   "source": [
    "mqdf = mean_qdf #np.mean(tempi, axis=0)\n",
    "fig, ax = plt.subplots()\n",
    "ax.plot(grid_quantiles, mqdf, label=\"mean qdf\")\n",
    "ax.plot(grid_quantiles, grid_densities[0] + riemann_sum_arrays(grid_quantiles, array=mqdf, axis=0, cumsum=True), label=\"num qf\")\n",
    "plt.legend()\n",
    "plt.show()"
   ]
  },
  {
   "cell_type": "code",
   "execution_count": null,
   "metadata": {},
   "outputs": [],
   "source": [
    "def fve(k):\n",
    "    \"\"\"Compute explained variance.\"\"\"\n",
    "    return np.sum(eigenvalues[:k]) / np.sum(eigenvalues)\n",
    "\n",
    "\n",
    "fve(1), fve(2)"
   ]
  },
  {
   "cell_type": "code",
   "execution_count": null,
   "metadata": {},
   "outputs": [],
   "source": [
    "fig, ax = plt.subplots()\n",
    "# for i in range(3):\n",
    "ax.plot(grid_densities, ds_discretized[40], label=f\"Density {40}\")\n",
    "ax.plot(grid_densities, mean_function, label=\"mean pdf\")\n",
    "ax.plot(grid_densities, f_oplus, label=\"wf mean\")\n",
    "plt.legend()\n",
    "plt.show()"
   ]
  }
 ],
 "metadata": {
  "language_info": {
   "codemirror_mode": {
    "name": "ipython",
    "version": 3
   },
   "file_extension": ".py",
   "mimetype": "text/x-python",
   "name": "python",
   "nbconvert_exporter": "python",
   "pygments_lexer": "ipython3"
  }
 },
 "nbformat": 4,
 "nbformat_minor": 2
}
